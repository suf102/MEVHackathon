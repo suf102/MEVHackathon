{
 "cells": [
  {
   "cell_type": "code",
   "execution_count": null,
   "metadata": {},
   "outputs": [],
   "source": [
    "import numpy as np \n",
    "import pandas as pd\n",
    "import multiprocessing as mp\n",
    "from multiprocessing import Pool\n",
    "from numba import jit\n",
    "import json"
   ]
  },
  {
   "cell_type": "code",
   "execution_count": null,
   "metadata": {},
   "outputs": [],
   "source": [
    "df = pd.read_csv('../datalets/datalet2.csv',index_col=False)"
   ]
  },
  {
   "cell_type": "code",
   "execution_count": null,
   "metadata": {},
   "outputs": [],
   "source": [
    "headers = []\n",
    "\n",
    "for i in range(df.shape[1]):\n",
    "    headers.append('period{}'.format(i))\n",
    " \n",
    "\n",
    "df.columns = headers    \n",
    "\n",
    "display(df)"
   ]
  },
  {
   "cell_type": "code",
   "execution_count": null,
   "metadata": {},
   "outputs": [],
   "source": [
    "counts = {}\n",
    "for x in range(len(df['period0'].value_counts())):\n",
    "    counts['{}.0'.format(x)]= df['period0'].value_counts()[x]\n",
    "    \n",
    "print(counts)\n"
   ]
  },
  {
   "cell_type": "code",
   "execution_count": null,
   "metadata": {},
   "outputs": [],
   "source": [
    "df['ydata'] = df['period1']\n",
    "output = pd.pivot_table(data=df, index=['period0'], columns=['period1'], values='ydata', aggfunc='count')\n",
    "display(output)\n",
    "\n"
   ]
  },
  {
   "cell_type": "code",
   "execution_count": null,
   "metadata": {},
   "outputs": [],
   "source": [
    "#This is a the stochastic markov chain that tells you, if you start at a particular MEV state, where might you end up I am just transposing it for the calculation and it will be transposed back after\n",
    "\n",
    "tmatrix = output.transpose(copy=False)\n",
    "\n",
    "#This loop divides by the total counts in each row, to work out the conditional probability of going from one state to another. \n",
    "\n",
    "for x in range(len(counts)):\n",
    "    tmatrix[x] = (tmatrix[x] / counts['{}.0'.format(x)])\n",
    "\n",
    "\n",
    "transition_matrix = tmatrix.transpose(copy=False)\n",
    "\n",
    "display(transition_matrix)"
   ]
  }
 ],
 "metadata": {
  "kernelspec": {
   "display_name": "Python 3.9.12 ('base')",
   "language": "python",
   "name": "python3"
  },
  "language_info": {
   "codemirror_mode": {
    "name": "ipython",
    "version": 3
   },
   "file_extension": ".py",
   "mimetype": "text/x-python",
   "name": "python",
   "nbconvert_exporter": "python",
   "pygments_lexer": "ipython3",
   "version": "3.9.12"
  },
  "orig_nbformat": 4,
  "vscode": {
   "interpreter": {
    "hash": "ad2bdc8ecc057115af97d19610ffacc2b4e99fae6737bb82f5d7fb13d2f2c186"
   }
  }
 },
 "nbformat": 4,
 "nbformat_minor": 2
}
