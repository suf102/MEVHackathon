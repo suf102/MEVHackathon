{
 "cells": [
  {
   "cell_type": "code",
   "execution_count": 2,
   "metadata": {},
   "outputs": [],
   "source": [
    "import json\n",
    "import pandas as pd\n",
    "import matplotlib.pyplot as plt\n",
    "import seaborn as sns"
   ]
  },
  {
   "cell_type": "code",
   "execution_count": 3,
   "metadata": {},
   "outputs": [],
   "source": [
    "import numpy as np"
   ]
  },
  {
   "cell_type": "code",
   "execution_count": null,
   "metadata": {},
   "outputs": [],
   "source": []
  },
  {
   "cell_type": "code",
   "execution_count": 3,
   "metadata": {},
   "outputs": [],
   "source": [
    "with open('transaction_history_1000.json') as json_file:\n",
    "    data = json.load(json_file)"
   ]
  },
  {
   "cell_type": "code",
   "execution_count": 4,
   "metadata": {},
   "outputs": [
    {
     "data": {
      "text/plain": [
       "2"
      ]
     },
     "execution_count": 4,
     "metadata": {},
     "output_type": "execute_result"
    }
   ],
   "source": [
    "len(data)"
   ]
  },
  {
   "cell_type": "code",
   "execution_count": 6,
   "metadata": {},
   "outputs": [
    {
     "data": {
      "text/plain": [
       "1000"
      ]
     },
     "execution_count": 6,
     "metadata": {},
     "output_type": "execute_result"
    }
   ],
   "source": [
    "len(data['transactions'])"
   ]
  },
  {
   "cell_type": "code",
   "execution_count": 11,
   "metadata": {},
   "outputs": [],
   "source": [
    "k = {'a':[1,2,3],'b':[4,5,6],'c':[7,8,9]}"
   ]
  },
  {
   "cell_type": "code",
   "execution_count": 12,
   "metadata": {},
   "outputs": [],
   "source": [
    "df = pd.DataFrame(k)"
   ]
  },
  {
   "cell_type": "code",
   "execution_count": 13,
   "metadata": {},
   "outputs": [
    {
     "data": {
      "text/html": [
       "<div>\n",
       "<style scoped>\n",
       "    .dataframe tbody tr th:only-of-type {\n",
       "        vertical-align: middle;\n",
       "    }\n",
       "\n",
       "    .dataframe tbody tr th {\n",
       "        vertical-align: top;\n",
       "    }\n",
       "\n",
       "    .dataframe thead th {\n",
       "        text-align: right;\n",
       "    }\n",
       "</style>\n",
       "<table border=\"1\" class=\"dataframe\">\n",
       "  <thead>\n",
       "    <tr style=\"text-align: right;\">\n",
       "      <th></th>\n",
       "      <th>a</th>\n",
       "      <th>b</th>\n",
       "      <th>c</th>\n",
       "    </tr>\n",
       "  </thead>\n",
       "  <tbody>\n",
       "    <tr>\n",
       "      <th>0</th>\n",
       "      <td>1</td>\n",
       "      <td>4</td>\n",
       "      <td>7</td>\n",
       "    </tr>\n",
       "    <tr>\n",
       "      <th>1</th>\n",
       "      <td>2</td>\n",
       "      <td>5</td>\n",
       "      <td>8</td>\n",
       "    </tr>\n",
       "    <tr>\n",
       "      <th>2</th>\n",
       "      <td>3</td>\n",
       "      <td>6</td>\n",
       "      <td>9</td>\n",
       "    </tr>\n",
       "  </tbody>\n",
       "</table>\n",
       "</div>"
      ],
      "text/plain": [
       "   a  b  c\n",
       "0  1  4  7\n",
       "1  2  5  8\n",
       "2  3  6  9"
      ]
     },
     "execution_count": 13,
     "metadata": {},
     "output_type": "execute_result"
    }
   ],
   "source": [
    "df.head()"
   ]
  },
  {
   "cell_type": "code",
   "execution_count": 14,
   "metadata": {},
   "outputs": [],
   "source": [
    "blockdf = pd.DataFrame(data['transactions'])"
   ]
  },
  {
   "cell_type": "code",
   "execution_count": 15,
   "metadata": {},
   "outputs": [
    {
     "data": {
      "text/html": [
       "<div>\n",
       "<style scoped>\n",
       "    .dataframe tbody tr th:only-of-type {\n",
       "        vertical-align: middle;\n",
       "    }\n",
       "\n",
       "    .dataframe tbody tr th {\n",
       "        vertical-align: top;\n",
       "    }\n",
       "\n",
       "    .dataframe thead th {\n",
       "        text-align: right;\n",
       "    }\n",
       "</style>\n",
       "<table border=\"1\" class=\"dataframe\">\n",
       "  <thead>\n",
       "    <tr style=\"text-align: right;\">\n",
       "      <th></th>\n",
       "      <th>transaction_hash</th>\n",
       "      <th>tx_index</th>\n",
       "      <th>bundle_index</th>\n",
       "      <th>block_number</th>\n",
       "      <th>eao_address</th>\n",
       "      <th>to_address</th>\n",
       "      <th>gas_used</th>\n",
       "      <th>gas_price</th>\n",
       "      <th>coinbase_transfer</th>\n",
       "      <th>total_miner_reward</th>\n",
       "    </tr>\n",
       "  </thead>\n",
       "  <tbody>\n",
       "    <tr>\n",
       "      <th>0</th>\n",
       "      <td>0xa0ce6d68c294fc6b4832f243be59142c537ffdd6863f...</td>\n",
       "      <td>0</td>\n",
       "      <td>1</td>\n",
       "      <td>15492643</td>\n",
       "      <td>0x0D78FCF0a3E51124b2531A80950023f5Ba2E8FAc</td>\n",
       "      <td>0xFA103c21ea2DF71DFb92B0652F8B1D795e51cdEf</td>\n",
       "      <td>189742</td>\n",
       "      <td>1464105325</td>\n",
       "      <td>0</td>\n",
       "      <td>277802272576150</td>\n",
       "    </tr>\n",
       "    <tr>\n",
       "      <th>1</th>\n",
       "      <td>0x9a2d2ca9e6c3c249de58c04ff674a4c540754300db55...</td>\n",
       "      <td>1</td>\n",
       "      <td>0</td>\n",
       "      <td>15492643</td>\n",
       "      <td>0x79b7a69d90c82E014Bf0315e164208119B510FA0</td>\n",
       "      <td>0xE06fFA8146bBdECcBaaF72B6043b29091071AEB8</td>\n",
       "      <td>133347</td>\n",
       "      <td>111562823872</td>\n",
       "      <td>0</td>\n",
       "      <td>14876567874859584</td>\n",
       "    </tr>\n",
       "    <tr>\n",
       "      <th>2</th>\n",
       "      <td>0xfb9812328d8ade6f7348e31421f2d639d095d895a3a2...</td>\n",
       "      <td>0</td>\n",
       "      <td>0</td>\n",
       "      <td>15492643</td>\n",
       "      <td>0x49c6fB6CBe27Ce0E773B85840Cb072791368e5Bb</td>\n",
       "      <td>0xd9e1cE17f2641f24aE83637ab66a2cca9C378B9F</td>\n",
       "      <td>101466</td>\n",
       "      <td>2000000000</td>\n",
       "      <td>0</td>\n",
       "      <td>202932000000000</td>\n",
       "    </tr>\n",
       "    <tr>\n",
       "      <th>3</th>\n",
       "      <td>0xc0c6819d6ff8cf70ba124ddc23e3fb43bd1a550a1571...</td>\n",
       "      <td>0</td>\n",
       "      <td>4</td>\n",
       "      <td>15492641</td>\n",
       "      <td>0x49c3FeaFDdaefC3Bed06F4ff87CE86610C2c1076</td>\n",
       "      <td>0x03f7724180AA6b939894B5Ca4314783B0b36b329</td>\n",
       "      <td>109034</td>\n",
       "      <td>2000000000</td>\n",
       "      <td>0</td>\n",
       "      <td>218068000000000</td>\n",
       "    </tr>\n",
       "    <tr>\n",
       "      <th>4</th>\n",
       "      <td>0x02fcf5944c6859b6da4ff23117311c8164632fddba99...</td>\n",
       "      <td>0</td>\n",
       "      <td>3</td>\n",
       "      <td>15492641</td>\n",
       "      <td>0x1fd34033240C95aaBf73E186A94B9576C6DAB81B</td>\n",
       "      <td>0xA1006d0051a35b0000F961a8000000009eA8d2dB</td>\n",
       "      <td>288099</td>\n",
       "      <td>2363593429</td>\n",
       "      <td>0</td>\n",
       "      <td>680948903301471</td>\n",
       "    </tr>\n",
       "  </tbody>\n",
       "</table>\n",
       "</div>"
      ],
      "text/plain": [
       "                                    transaction_hash  tx_index  bundle_index  \\\n",
       "0  0xa0ce6d68c294fc6b4832f243be59142c537ffdd6863f...         0             1   \n",
       "1  0x9a2d2ca9e6c3c249de58c04ff674a4c540754300db55...         1             0   \n",
       "2  0xfb9812328d8ade6f7348e31421f2d639d095d895a3a2...         0             0   \n",
       "3  0xc0c6819d6ff8cf70ba124ddc23e3fb43bd1a550a1571...         0             4   \n",
       "4  0x02fcf5944c6859b6da4ff23117311c8164632fddba99...         0             3   \n",
       "\n",
       "   block_number                                 eao_address  \\\n",
       "0      15492643  0x0D78FCF0a3E51124b2531A80950023f5Ba2E8FAc   \n",
       "1      15492643  0x79b7a69d90c82E014Bf0315e164208119B510FA0   \n",
       "2      15492643  0x49c6fB6CBe27Ce0E773B85840Cb072791368e5Bb   \n",
       "3      15492641  0x49c3FeaFDdaefC3Bed06F4ff87CE86610C2c1076   \n",
       "4      15492641  0x1fd34033240C95aaBf73E186A94B9576C6DAB81B   \n",
       "\n",
       "                                   to_address  gas_used     gas_price  \\\n",
       "0  0xFA103c21ea2DF71DFb92B0652F8B1D795e51cdEf    189742    1464105325   \n",
       "1  0xE06fFA8146bBdECcBaaF72B6043b29091071AEB8    133347  111562823872   \n",
       "2  0xd9e1cE17f2641f24aE83637ab66a2cca9C378B9F    101466    2000000000   \n",
       "3  0x03f7724180AA6b939894B5Ca4314783B0b36b329    109034    2000000000   \n",
       "4  0xA1006d0051a35b0000F961a8000000009eA8d2dB    288099    2363593429   \n",
       "\n",
       "  coinbase_transfer total_miner_reward  \n",
       "0                 0    277802272576150  \n",
       "1                 0  14876567874859584  \n",
       "2                 0    202932000000000  \n",
       "3                 0    218068000000000  \n",
       "4                 0    680948903301471  "
      ]
     },
     "execution_count": 15,
     "metadata": {},
     "output_type": "execute_result"
    }
   ],
   "source": [
    "blockdf.head()"
   ]
  },
  {
   "cell_type": "code",
   "execution_count": 16,
   "metadata": {},
   "outputs": [],
   "source": [
    "blockdf.drop(columns = ['transaction_hash'], inplace = True)"
   ]
  },
  {
   "cell_type": "code",
   "execution_count": 17,
   "metadata": {},
   "outputs": [
    {
     "data": {
      "text/html": [
       "<div>\n",
       "<style scoped>\n",
       "    .dataframe tbody tr th:only-of-type {\n",
       "        vertical-align: middle;\n",
       "    }\n",
       "\n",
       "    .dataframe tbody tr th {\n",
       "        vertical-align: top;\n",
       "    }\n",
       "\n",
       "    .dataframe thead th {\n",
       "        text-align: right;\n",
       "    }\n",
       "</style>\n",
       "<table border=\"1\" class=\"dataframe\">\n",
       "  <thead>\n",
       "    <tr style=\"text-align: right;\">\n",
       "      <th></th>\n",
       "      <th>tx_index</th>\n",
       "      <th>bundle_index</th>\n",
       "      <th>block_number</th>\n",
       "      <th>eao_address</th>\n",
       "      <th>to_address</th>\n",
       "      <th>gas_used</th>\n",
       "      <th>gas_price</th>\n",
       "      <th>coinbase_transfer</th>\n",
       "      <th>total_miner_reward</th>\n",
       "    </tr>\n",
       "  </thead>\n",
       "  <tbody>\n",
       "    <tr>\n",
       "      <th>0</th>\n",
       "      <td>0</td>\n",
       "      <td>1</td>\n",
       "      <td>15492643</td>\n",
       "      <td>0x0D78FCF0a3E51124b2531A80950023f5Ba2E8FAc</td>\n",
       "      <td>0xFA103c21ea2DF71DFb92B0652F8B1D795e51cdEf</td>\n",
       "      <td>189742</td>\n",
       "      <td>1464105325</td>\n",
       "      <td>0</td>\n",
       "      <td>277802272576150</td>\n",
       "    </tr>\n",
       "    <tr>\n",
       "      <th>1</th>\n",
       "      <td>1</td>\n",
       "      <td>0</td>\n",
       "      <td>15492643</td>\n",
       "      <td>0x79b7a69d90c82E014Bf0315e164208119B510FA0</td>\n",
       "      <td>0xE06fFA8146bBdECcBaaF72B6043b29091071AEB8</td>\n",
       "      <td>133347</td>\n",
       "      <td>111562823872</td>\n",
       "      <td>0</td>\n",
       "      <td>14876567874859584</td>\n",
       "    </tr>\n",
       "    <tr>\n",
       "      <th>2</th>\n",
       "      <td>0</td>\n",
       "      <td>0</td>\n",
       "      <td>15492643</td>\n",
       "      <td>0x49c6fB6CBe27Ce0E773B85840Cb072791368e5Bb</td>\n",
       "      <td>0xd9e1cE17f2641f24aE83637ab66a2cca9C378B9F</td>\n",
       "      <td>101466</td>\n",
       "      <td>2000000000</td>\n",
       "      <td>0</td>\n",
       "      <td>202932000000000</td>\n",
       "    </tr>\n",
       "    <tr>\n",
       "      <th>3</th>\n",
       "      <td>0</td>\n",
       "      <td>4</td>\n",
       "      <td>15492641</td>\n",
       "      <td>0x49c3FeaFDdaefC3Bed06F4ff87CE86610C2c1076</td>\n",
       "      <td>0x03f7724180AA6b939894B5Ca4314783B0b36b329</td>\n",
       "      <td>109034</td>\n",
       "      <td>2000000000</td>\n",
       "      <td>0</td>\n",
       "      <td>218068000000000</td>\n",
       "    </tr>\n",
       "    <tr>\n",
       "      <th>4</th>\n",
       "      <td>0</td>\n",
       "      <td>3</td>\n",
       "      <td>15492641</td>\n",
       "      <td>0x1fd34033240C95aaBf73E186A94B9576C6DAB81B</td>\n",
       "      <td>0xA1006d0051a35b0000F961a8000000009eA8d2dB</td>\n",
       "      <td>288099</td>\n",
       "      <td>2363593429</td>\n",
       "      <td>0</td>\n",
       "      <td>680948903301471</td>\n",
       "    </tr>\n",
       "  </tbody>\n",
       "</table>\n",
       "</div>"
      ],
      "text/plain": [
       "   tx_index  bundle_index  block_number  \\\n",
       "0         0             1      15492643   \n",
       "1         1             0      15492643   \n",
       "2         0             0      15492643   \n",
       "3         0             4      15492641   \n",
       "4         0             3      15492641   \n",
       "\n",
       "                                  eao_address  \\\n",
       "0  0x0D78FCF0a3E51124b2531A80950023f5Ba2E8FAc   \n",
       "1  0x79b7a69d90c82E014Bf0315e164208119B510FA0   \n",
       "2  0x49c6fB6CBe27Ce0E773B85840Cb072791368e5Bb   \n",
       "3  0x49c3FeaFDdaefC3Bed06F4ff87CE86610C2c1076   \n",
       "4  0x1fd34033240C95aaBf73E186A94B9576C6DAB81B   \n",
       "\n",
       "                                   to_address  gas_used     gas_price  \\\n",
       "0  0xFA103c21ea2DF71DFb92B0652F8B1D795e51cdEf    189742    1464105325   \n",
       "1  0xE06fFA8146bBdECcBaaF72B6043b29091071AEB8    133347  111562823872   \n",
       "2  0xd9e1cE17f2641f24aE83637ab66a2cca9C378B9F    101466    2000000000   \n",
       "3  0x03f7724180AA6b939894B5Ca4314783B0b36b329    109034    2000000000   \n",
       "4  0xA1006d0051a35b0000F961a8000000009eA8d2dB    288099    2363593429   \n",
       "\n",
       "  coinbase_transfer total_miner_reward  \n",
       "0                 0    277802272576150  \n",
       "1                 0  14876567874859584  \n",
       "2                 0    202932000000000  \n",
       "3                 0    218068000000000  \n",
       "4                 0    680948903301471  "
      ]
     },
     "execution_count": 17,
     "metadata": {},
     "output_type": "execute_result"
    }
   ],
   "source": [
    "blockdf.head()"
   ]
  },
  {
   "cell_type": "code",
   "execution_count": 19,
   "metadata": {},
   "outputs": [],
   "source": [
    "blockdf.to_csv('block_data_raw.csv')"
   ]
  },
  {
   "cell_type": "code",
   "execution_count": 26,
   "metadata": {},
   "outputs": [
    {
     "data": {
      "text/html": [
       "<div>\n",
       "<style scoped>\n",
       "    .dataframe tbody tr th:only-of-type {\n",
       "        vertical-align: middle;\n",
       "    }\n",
       "\n",
       "    .dataframe tbody tr th {\n",
       "        vertical-align: top;\n",
       "    }\n",
       "\n",
       "    .dataframe thead th {\n",
       "        text-align: right;\n",
       "    }\n",
       "</style>\n",
       "<table border=\"1\" class=\"dataframe\">\n",
       "  <thead>\n",
       "    <tr style=\"text-align: right;\">\n",
       "      <th></th>\n",
       "      <th>total_miner_reward</th>\n",
       "    </tr>\n",
       "  </thead>\n",
       "  <tbody>\n",
       "    <tr>\n",
       "      <th>count</th>\n",
       "      <td>1000</td>\n",
       "    </tr>\n",
       "    <tr>\n",
       "      <th>unique</th>\n",
       "      <td>629</td>\n",
       "    </tr>\n",
       "    <tr>\n",
       "      <th>top</th>\n",
       "      <td>0</td>\n",
       "    </tr>\n",
       "    <tr>\n",
       "      <th>freq</th>\n",
       "      <td>361</td>\n",
       "    </tr>\n",
       "  </tbody>\n",
       "</table>\n",
       "</div>"
      ],
      "text/plain": [
       "       total_miner_reward\n",
       "count                1000\n",
       "unique                629\n",
       "top                     0\n",
       "freq                  361"
      ]
     },
     "execution_count": 26,
     "metadata": {},
     "output_type": "execute_result"
    }
   ],
   "source": [
    "blockdf[['total_miner_reward']].describe()"
   ]
  },
  {
   "cell_type": "code",
   "execution_count": 29,
   "metadata": {},
   "outputs": [],
   "source": [
    "blockdf = blockdf.astype({\"total_miner_reward\": float, \"gas_used\": float, \"gas_price\": float,\n",
    "               \"coinbase_transfer\": float})"
   ]
  },
  {
   "cell_type": "code",
   "execution_count": 30,
   "metadata": {},
   "outputs": [
    {
     "data": {
      "text/plain": [
       "<AxesSubplot:xlabel='total_miner_reward'>"
      ]
     },
     "execution_count": 30,
     "metadata": {},
     "output_type": "execute_result"
    },
    {
     "data": {
      "image/png": "[encoded data removed]",
      "text/plain": [
       "<Figure size 432x288 with 1 Axes>"
      ]
     },
     "metadata": {
      "needs_background": "light"
     },
     "output_type": "display_data"
    }
   ],
   "source": [
    "sns.boxplot(x = blockdf['total_miner_reward'])"
   ]
  },
  {
   "cell_type": "code",
   "execution_count": 31,
   "metadata": {},
   "outputs": [
    {
     "data": {
      "text/plain": [
       "count    1.000000e+03\n",
       "mean     2.028204e+16\n",
       "std      1.541747e+17\n",
       "min      0.000000e+00\n",
       "25%      0.000000e+00\n",
       "50%      4.326964e+14\n",
       "75%      3.397000e+15\n",
       "max      4.123736e+18\n",
       "Name: total_miner_reward, dtype: float64"
      ]
     },
     "execution_count": 31,
     "metadata": {},
     "output_type": "execute_result"
    }
   ],
   "source": [
    "blockdf['total_miner_reward'].describe()"
   ]
  },
  {
   "cell_type": "code",
   "execution_count": null,
   "metadata": {},
   "outputs": [],
   "source": [
    "{1 : [0, 4.32*(10**14)],\n",
    "2: []}"
   ]
  },
  {
   "cell_type": "code",
   "execution_count": 33,
   "metadata": {},
   "outputs": [
    {
     "data": {
      "text/plain": [
       "432000000000000.0"
      ]
     },
     "execution_count": 33,
     "metadata": {},
     "output_type": "execute_result"
    }
   ],
   "source": [
    "4.32*(10**14)"
   ]
  },
  {
   "cell_type": "code",
   "execution_count": 35,
   "metadata": {},
   "outputs": [
    {
     "data": {
      "text/plain": [
       "202932000000000.0"
      ]
     },
     "execution_count": 35,
     "metadata": {},
     "output_type": "execute_result"
    }
   ],
   "source": [
    "blockdf['total_miner_reward'][2]"
   ]
  },
  {
   "cell_type": "code",
   "execution_count": 41,
   "metadata": {},
   "outputs": [],
   "source": [
    "blockdf['MEV_LEVEL'] = blockdf['total_miner_reward']\n",
    "\n",
    "blockdf['MEV_LEVEL'] = blockdf['MEV_LEVEL'].apply(lambda x: 1 if x <= 4.32*(10**14) else x )\n",
    "blockdf['MEV_LEVEL'] = blockdf['MEV_LEVEL'].apply(lambda x: 2 if x <= 3.39*(10**15) and x > 4.32*(10**14) else x )\n",
    "blockdf['MEV_LEVEL'] = blockdf['MEV_LEVEL'].apply(lambda x: 3 if x > 3.39*(10**15) else x )\n",
    "\n",
    "# for i in range(len(blockdf)):\n",
    "#     if 0 <= blockdf['total_miner_reward'][i] <= 4.32*(10**14):\n",
    "#          blockdf.at[i, 'MEV_LEVEL'] = 1\n",
    "#     elif 4.32*(10**14) < blockdf['total_miner_reward'][i] <= 3.39*(10**15):\n",
    "#         blockdf.at[i, 'MEV_LEVEL'] = 2\n",
    "#     elif blockdf['total_miner_reward'][i] > 3.39*(10**15):\n",
    "#         blockdf.at[i, 'MEV_LEVEL'] = 3"
   ]
  },
  {
   "cell_type": "code",
   "execution_count": 42,
   "metadata": {},
   "outputs": [
    {
     "data": {
      "text/plain": [
       "<AxesSubplot:xlabel='MEV_LEVEL', ylabel='total_miner_reward'>"
      ]
     },
     "execution_count": 42,
     "metadata": {},
     "output_type": "execute_result"
    },
    {
     "data": {
      "image/png": "[encoded data removed]",
      "text/plain": [
       "<Figure size 1008x432 with 1 Axes>"
      ]
     },
     "metadata": {
      "needs_background": "light"
     },
     "output_type": "display_data"
    }
   ],
   "source": [
    "plt.figure(figsize=(14,6))\n",
    "sns.boxplot(x = blockdf['MEV_LEVEL'], y = blockdf['total_miner_reward'], showfliers = False)"
   ]
  },
  {
   "cell_type": "code",
   "execution_count": 43,
   "metadata": {},
   "outputs": [],
   "source": [
    "blockdf.to_csv('block_df_processed.csv')"
   ]
  },
  {
   "cell_type": "code",
   "execution_count": 44,
   "metadata": {},
   "outputs": [
    {
     "data": {
      "text/html": [
       "<div>\n",
       "<style scoped>\n",
       "    .dataframe tbody tr th:only-of-type {\n",
       "        vertical-align: middle;\n",
       "    }\n",
       "\n",
       "    .dataframe tbody tr th {\n",
       "        vertical-align: top;\n",
       "    }\n",
       "\n",
       "    .dataframe thead th {\n",
       "        text-align: right;\n",
       "    }\n",
       "</style>\n",
       "<table border=\"1\" class=\"dataframe\">\n",
       "  <thead>\n",
       "    <tr style=\"text-align: right;\">\n",
       "      <th></th>\n",
       "      <th>tx_index</th>\n",
       "      <th>bundle_index</th>\n",
       "      <th>block_number</th>\n",
       "      <th>eao_address</th>\n",
       "      <th>to_address</th>\n",
       "      <th>gas_used</th>\n",
       "      <th>gas_price</th>\n",
       "      <th>coinbase_transfer</th>\n",
       "      <th>total_miner_reward</th>\n",
       "      <th>MEV_LEVEL</th>\n",
       "    </tr>\n",
       "  </thead>\n",
       "  <tbody>\n",
       "    <tr>\n",
       "      <th>0</th>\n",
       "      <td>0</td>\n",
       "      <td>1</td>\n",
       "      <td>15492643</td>\n",
       "      <td>0x0D78FCF0a3E51124b2531A80950023f5Ba2E8FAc</td>\n",
       "      <td>0xFA103c21ea2DF71DFb92B0652F8B1D795e51cdEf</td>\n",
       "      <td>189742.0</td>\n",
       "      <td>1.464105e+09</td>\n",
       "      <td>0.0</td>\n",
       "      <td>2.778023e+14</td>\n",
       "      <td>1</td>\n",
       "    </tr>\n",
       "    <tr>\n",
       "      <th>1</th>\n",
       "      <td>1</td>\n",
       "      <td>0</td>\n",
       "      <td>15492643</td>\n",
       "      <td>0x79b7a69d90c82E014Bf0315e164208119B510FA0</td>\n",
       "      <td>0xE06fFA8146bBdECcBaaF72B6043b29091071AEB8</td>\n",
       "      <td>133347.0</td>\n",
       "      <td>1.115628e+11</td>\n",
       "      <td>0.0</td>\n",
       "      <td>1.487657e+16</td>\n",
       "      <td>3</td>\n",
       "    </tr>\n",
       "    <tr>\n",
       "      <th>2</th>\n",
       "      <td>0</td>\n",
       "      <td>0</td>\n",
       "      <td>15492643</td>\n",
       "      <td>0x49c6fB6CBe27Ce0E773B85840Cb072791368e5Bb</td>\n",
       "      <td>0xd9e1cE17f2641f24aE83637ab66a2cca9C378B9F</td>\n",
       "      <td>101466.0</td>\n",
       "      <td>2.000000e+09</td>\n",
       "      <td>0.0</td>\n",
       "      <td>2.029320e+14</td>\n",
       "      <td>1</td>\n",
       "    </tr>\n",
       "    <tr>\n",
       "      <th>3</th>\n",
       "      <td>0</td>\n",
       "      <td>4</td>\n",
       "      <td>15492641</td>\n",
       "      <td>0x49c3FeaFDdaefC3Bed06F4ff87CE86610C2c1076</td>\n",
       "      <td>0x03f7724180AA6b939894B5Ca4314783B0b36b329</td>\n",
       "      <td>109034.0</td>\n",
       "      <td>2.000000e+09</td>\n",
       "      <td>0.0</td>\n",
       "      <td>2.180680e+14</td>\n",
       "      <td>1</td>\n",
       "    </tr>\n",
       "    <tr>\n",
       "      <th>4</th>\n",
       "      <td>0</td>\n",
       "      <td>3</td>\n",
       "      <td>15492641</td>\n",
       "      <td>0x1fd34033240C95aaBf73E186A94B9576C6DAB81B</td>\n",
       "      <td>0xA1006d0051a35b0000F961a8000000009eA8d2dB</td>\n",
       "      <td>288099.0</td>\n",
       "      <td>2.363593e+09</td>\n",
       "      <td>0.0</td>\n",
       "      <td>6.809489e+14</td>\n",
       "      <td>2</td>\n",
       "    </tr>\n",
       "  </tbody>\n",
       "</table>\n",
       "</div>"
      ],
      "text/plain": [
       "   tx_index  bundle_index  block_number  \\\n",
       "0         0             1      15492643   \n",
       "1         1             0      15492643   \n",
       "2         0             0      15492643   \n",
       "3         0             4      15492641   \n",
       "4         0             3      15492641   \n",
       "\n",
       "                                  eao_address  \\\n",
       "0  0x0D78FCF0a3E51124b2531A80950023f5Ba2E8FAc   \n",
       "1  0x79b7a69d90c82E014Bf0315e164208119B510FA0   \n",
       "2  0x49c6fB6CBe27Ce0E773B85840Cb072791368e5Bb   \n",
       "3  0x49c3FeaFDdaefC3Bed06F4ff87CE86610C2c1076   \n",
       "4  0x1fd34033240C95aaBf73E186A94B9576C6DAB81B   \n",
       "\n",
       "                                   to_address  gas_used     gas_price  \\\n",
       "0  0xFA103c21ea2DF71DFb92B0652F8B1D795e51cdEf  189742.0  1.464105e+09   \n",
       "1  0xE06fFA8146bBdECcBaaF72B6043b29091071AEB8  133347.0  1.115628e+11   \n",
       "2  0xd9e1cE17f2641f24aE83637ab66a2cca9C378B9F  101466.0  2.000000e+09   \n",
       "3  0x03f7724180AA6b939894B5Ca4314783B0b36b329  109034.0  2.000000e+09   \n",
       "4  0xA1006d0051a35b0000F961a8000000009eA8d2dB  288099.0  2.363593e+09   \n",
       "\n",
       "   coinbase_transfer  total_miner_reward  MEV_LEVEL  \n",
       "0                0.0        2.778023e+14          1  \n",
       "1                0.0        1.487657e+16          3  \n",
       "2                0.0        2.029320e+14          1  \n",
       "3                0.0        2.180680e+14          1  \n",
       "4                0.0        6.809489e+14          2  "
      ]
     },
     "execution_count": 44,
     "metadata": {},
     "output_type": "execute_result"
    }
   ],
   "source": [
    "blockdf.head()"
   ]
  },
  {
   "cell_type": "code",
   "execution_count": 5,
   "metadata": {},
   "outputs": [
    {
     "ename": "MemoryError",
     "evalue": "",
     "output_type": "error",
     "traceback": [
      "\u001b[1;31m---------------------------------------------------------------------------\u001b[0m",
      "\u001b[1;31mMemoryError\u001b[0m                               Traceback (most recent call last)",
      "\u001b[1;32m<ipython-input-5-5996f36b648e>\u001b[0m in \u001b[0;36m<module>\u001b[1;34m\u001b[0m\n\u001b[0;32m      1\u001b[0m \u001b[1;32mwith\u001b[0m \u001b[0mopen\u001b[0m\u001b[1;33m(\u001b[0m\u001b[1;34m'latest_blocks.json'\u001b[0m\u001b[1;33m)\u001b[0m \u001b[1;32mas\u001b[0m \u001b[0mjson_file\u001b[0m\u001b[1;33m:\u001b[0m\u001b[1;33m\u001b[0m\u001b[1;33m\u001b[0m\u001b[0m\n\u001b[1;32m----> 2\u001b[1;33m     \u001b[0mdata_full\u001b[0m \u001b[1;33m=\u001b[0m \u001b[0mjson\u001b[0m\u001b[1;33m.\u001b[0m\u001b[0mload\u001b[0m\u001b[1;33m(\u001b[0m\u001b[0mjson_file\u001b[0m\u001b[1;33m)\u001b[0m\u001b[1;33m\u001b[0m\u001b[1;33m\u001b[0m\u001b[0m\n\u001b[0m",
      "\u001b[1;32m~\\anaconda3\\envs\\MLenv\\lib\\json\\__init__.py\u001b[0m in \u001b[0;36mload\u001b[1;34m(fp, cls, object_hook, parse_float, parse_int, parse_constant, object_pairs_hook, **kw)\u001b[0m\n\u001b[0;32m    291\u001b[0m     \u001b[0mkwarg\u001b[0m\u001b[1;33m;\u001b[0m \u001b[0motherwise\u001b[0m\u001b[0;31m \u001b[0m\u001b[0;31m`\u001b[0m\u001b[0;31m`\u001b[0m\u001b[0mJSONDecoder\u001b[0m\u001b[0;31m`\u001b[0m\u001b[0;31m`\u001b[0m \u001b[1;32mis\u001b[0m \u001b[0mused\u001b[0m\u001b[1;33m.\u001b[0m\u001b[1;33m\u001b[0m\u001b[1;33m\u001b[0m\u001b[0m\n\u001b[0;32m    292\u001b[0m     \"\"\"\n\u001b[1;32m--> 293\u001b[1;33m     return loads(fp.read(),\n\u001b[0m\u001b[0;32m    294\u001b[0m         \u001b[0mcls\u001b[0m\u001b[1;33m=\u001b[0m\u001b[0mcls\u001b[0m\u001b[1;33m,\u001b[0m \u001b[0mobject_hook\u001b[0m\u001b[1;33m=\u001b[0m\u001b[0mobject_hook\u001b[0m\u001b[1;33m,\u001b[0m\u001b[1;33m\u001b[0m\u001b[1;33m\u001b[0m\u001b[0m\n\u001b[0;32m    295\u001b[0m         \u001b[0mparse_float\u001b[0m\u001b[1;33m=\u001b[0m\u001b[0mparse_float\u001b[0m\u001b[1;33m,\u001b[0m \u001b[0mparse_int\u001b[0m\u001b[1;33m=\u001b[0m\u001b[0mparse_int\u001b[0m\u001b[1;33m,\u001b[0m\u001b[1;33m\u001b[0m\u001b[1;33m\u001b[0m\u001b[0m\n",
      "\u001b[1;32m~\\anaconda3\\envs\\MLenv\\lib\\encodings\\cp1252.py\u001b[0m in \u001b[0;36mdecode\u001b[1;34m(self, input, final)\u001b[0m\n\u001b[0;32m     21\u001b[0m \u001b[1;32mclass\u001b[0m \u001b[0mIncrementalDecoder\u001b[0m\u001b[1;33m(\u001b[0m\u001b[0mcodecs\u001b[0m\u001b[1;33m.\u001b[0m\u001b[0mIncrementalDecoder\u001b[0m\u001b[1;33m)\u001b[0m\u001b[1;33m:\u001b[0m\u001b[1;33m\u001b[0m\u001b[1;33m\u001b[0m\u001b[0m\n\u001b[0;32m     22\u001b[0m     \u001b[1;32mdef\u001b[0m \u001b[0mdecode\u001b[0m\u001b[1;33m(\u001b[0m\u001b[0mself\u001b[0m\u001b[1;33m,\u001b[0m \u001b[0minput\u001b[0m\u001b[1;33m,\u001b[0m \u001b[0mfinal\u001b[0m\u001b[1;33m=\u001b[0m\u001b[1;32mFalse\u001b[0m\u001b[1;33m)\u001b[0m\u001b[1;33m:\u001b[0m\u001b[1;33m\u001b[0m\u001b[1;33m\u001b[0m\u001b[0m\n\u001b[1;32m---> 23\u001b[1;33m         \u001b[1;32mreturn\u001b[0m \u001b[0mcodecs\u001b[0m\u001b[1;33m.\u001b[0m\u001b[0mcharmap_decode\u001b[0m\u001b[1;33m(\u001b[0m\u001b[0minput\u001b[0m\u001b[1;33m,\u001b[0m\u001b[0mself\u001b[0m\u001b[1;33m.\u001b[0m\u001b[0merrors\u001b[0m\u001b[1;33m,\u001b[0m\u001b[0mdecoding_table\u001b[0m\u001b[1;33m)\u001b[0m\u001b[1;33m[\u001b[0m\u001b[1;36m0\u001b[0m\u001b[1;33m]\u001b[0m\u001b[1;33m\u001b[0m\u001b[1;33m\u001b[0m\u001b[0m\n\u001b[0m\u001b[0;32m     24\u001b[0m \u001b[1;33m\u001b[0m\u001b[0m\n\u001b[0;32m     25\u001b[0m \u001b[1;32mclass\u001b[0m \u001b[0mStreamWriter\u001b[0m\u001b[1;33m(\u001b[0m\u001b[0mCodec\u001b[0m\u001b[1;33m,\u001b[0m\u001b[0mcodecs\u001b[0m\u001b[1;33m.\u001b[0m\u001b[0mStreamWriter\u001b[0m\u001b[1;33m)\u001b[0m\u001b[1;33m:\u001b[0m\u001b[1;33m\u001b[0m\u001b[1;33m\u001b[0m\u001b[0m\n",
      "\u001b[1;31mMemoryError\u001b[0m: "
     ]
    }
   ],
   "source": [
    "with open('latest_blocks.json') as json_file:\n",
    "    data_full = json.load(json_file)"
   ]
  },
  {
   "cell_type": "code",
   "execution_count": null,
   "metadata": {},
   "outputs": [],
   "source": []
  }
 ],
 "metadata": {
  "kernelspec": {
   "display_name": "Python 3.9.12 ('base')",
   "language": "python",
   "name": "python3"
  },
  "language_info": {
   "codemirror_mode": {
    "name": "ipython",
    "version": 3
   },
   "file_extension": ".py",
   "mimetype": "text/x-python",
   "name": "python",
   "nbconvert_exporter": "python",
   "pygments_lexer": "ipython3",
   "version": "3.9.12"
  },
  "vscode": {
   "interpreter": {
    "hash": "ad2bdc8ecc057115af97d19610ffacc2b4e99fae6737bb82f5d7fb13d2f2c186"
   }
  }
 },
 "nbformat": 4,
 "nbformat_minor": 4
}
