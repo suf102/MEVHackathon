{
 "cells": [
  {
   "cell_type": "code",
   "execution_count": 1,
   "metadata": {},
   "outputs": [],
   "source": [
    "import json\n",
    "import pandas as pd\n",
    "import matplotlib.pyplot as plt\n",
    "import seaborn as sns"
   ]
  },
  {
   "cell_type": "code",
   "execution_count": 3,
   "metadata": {},
   "outputs": [],
   "source": [
    "import numpy as np\n",
    "import requests"
   ]
  },
  {
   "cell_type": "code",
   "execution_count": 4,
   "metadata": {},
   "outputs": [],
   "source": [
    "x = requests.get('https://blocks.flashbots.net/v1/blocks') # just an example of loading in json via GET request"
   ]
  },
  {
   "cell_type": "code",
   "execution_count": 7,
   "metadata": {},
   "outputs": [],
   "source": [
    "data = x.json()"
   ]
  },
  {
   "cell_type": "code",
   "execution_count": 3,
   "metadata": {},
   "outputs": [],
   "source": [
    "with open('transaction_history_1000.json') as json_file: # how you would load in an already uploaded json file\n",
    "    data = json.load(json_file)"
   ]
  },
  {
   "cell_type": "code",
   "execution_count": 32,
   "metadata": {},
   "outputs": [],
   "source": [
    "blockdf2 = pd.DataFrame(data['blocks'])"
   ]
  },
  {
   "cell_type": "code",
   "execution_count": 33,
   "metadata": {},
   "outputs": [
    {
     "data": {
      "text/html": [
       "<div>\n",
       "<style scoped>\n",
       "    .dataframe tbody tr th:only-of-type {\n",
       "        vertical-align: middle;\n",
       "    }\n",
       "\n",
       "    .dataframe tbody tr th {\n",
       "        vertical-align: top;\n",
       "    }\n",
       "\n",
       "    .dataframe thead th {\n",
       "        text-align: right;\n",
       "    }\n",
       "</style>\n",
       "<table border=\"1\" class=\"dataframe\">\n",
       "  <thead>\n",
       "    <tr style=\"text-align: right;\">\n",
       "      <th></th>\n",
       "      <th>block_number</th>\n",
       "      <th>miner_reward</th>\n",
       "      <th>miner</th>\n",
       "      <th>coinbase_transfers</th>\n",
       "      <th>gas_used</th>\n",
       "      <th>gas_price</th>\n",
       "      <th>transactions</th>\n",
       "    </tr>\n",
       "  </thead>\n",
       "  <tbody>\n",
       "    <tr>\n",
       "      <th>0</th>\n",
       "      <td>15499457</td>\n",
       "      <td>3656032165854100</td>\n",
       "      <td>0x00192Fb10dF37c9FB26829eb2CC623cd1BF599E8</td>\n",
       "      <td>771218621941000</td>\n",
       "      <td>690527</td>\n",
       "      <td>5294553530</td>\n",
       "      <td>[{'transaction_hash': '0xdacbf1fc6c24346055bb3...</td>\n",
       "    </tr>\n",
       "    <tr>\n",
       "      <th>1</th>\n",
       "      <td>15499461</td>\n",
       "      <td>27818699083702895</td>\n",
       "      <td>0x2A20380DcA5bC24D052acfbf79ba23e988ad0050</td>\n",
       "      <td>8447958435705928</td>\n",
       "      <td>4305998</td>\n",
       "      <td>6460453322</td>\n",
       "      <td>[{'transaction_hash': '0x01ae9975f00765657ff12...</td>\n",
       "    </tr>\n",
       "    <tr>\n",
       "      <th>2</th>\n",
       "      <td>15499462</td>\n",
       "      <td>71185786003524985</td>\n",
       "      <td>0x829BD824B016326A401d083B33D092293333A830</td>\n",
       "      <td>3658525950107255</td>\n",
       "      <td>782759</td>\n",
       "      <td>90942149503</td>\n",
       "      <td>[{'transaction_hash': '0x5bb534814076581f36315...</td>\n",
       "    </tr>\n",
       "    <tr>\n",
       "      <th>3</th>\n",
       "      <td>15499465</td>\n",
       "      <td>30407951822936158</td>\n",
       "      <td>0xEA674fdDe714fd979de3EdF0F56AA9716B898ec8</td>\n",
       "      <td>25686584009236362</td>\n",
       "      <td>2024395</td>\n",
       "      <td>15020760189</td>\n",
       "      <td>[{'transaction_hash': '0xde5c5aaa70d1126b29671...</td>\n",
       "    </tr>\n",
       "    <tr>\n",
       "      <th>4</th>\n",
       "      <td>15499466</td>\n",
       "      <td>4807954373211815</td>\n",
       "      <td>0x829BD824B016326A401d083B33D092293333A830</td>\n",
       "      <td>2319549279398094</td>\n",
       "      <td>353089</td>\n",
       "      <td>13616834206</td>\n",
       "      <td>[{'transaction_hash': '0x45cb7711ccd0ab3e5145b...</td>\n",
       "    </tr>\n",
       "  </tbody>\n",
       "</table>\n",
       "</div>"
      ],
      "text/plain": [
       "   block_number       miner_reward  \\\n",
       "0      15499457   3656032165854100   \n",
       "1      15499461  27818699083702895   \n",
       "2      15499462  71185786003524985   \n",
       "3      15499465  30407951822936158   \n",
       "4      15499466   4807954373211815   \n",
       "\n",
       "                                        miner coinbase_transfers  gas_used  \\\n",
       "0  0x00192Fb10dF37c9FB26829eb2CC623cd1BF599E8    771218621941000    690527   \n",
       "1  0x2A20380DcA5bC24D052acfbf79ba23e988ad0050   8447958435705928   4305998   \n",
       "2  0x829BD824B016326A401d083B33D092293333A830   3658525950107255    782759   \n",
       "3  0xEA674fdDe714fd979de3EdF0F56AA9716B898ec8  25686584009236362   2024395   \n",
       "4  0x829BD824B016326A401d083B33D092293333A830   2319549279398094    353089   \n",
       "\n",
       "     gas_price                                       transactions  \n",
       "0   5294553530  [{'transaction_hash': '0xdacbf1fc6c24346055bb3...  \n",
       "1   6460453322  [{'transaction_hash': '0x01ae9975f00765657ff12...  \n",
       "2  90942149503  [{'transaction_hash': '0x5bb534814076581f36315...  \n",
       "3  15020760189  [{'transaction_hash': '0xde5c5aaa70d1126b29671...  \n",
       "4  13616834206  [{'transaction_hash': '0x45cb7711ccd0ab3e5145b...  "
      ]
     },
     "execution_count": 33,
     "metadata": {},
     "output_type": "execute_result"
    }
   ],
   "source": [
    "blockdf2.head()"
   ]
  },
  {
   "cell_type": "code",
   "execution_count": 36,
   "metadata": {},
   "outputs": [],
   "source": [
    "gas_used = list(blockdf2.groupby('block_number')['gas_used'].sum())  # total gas used per block column"
   ]
  },
  {
   "cell_type": "code",
   "execution_count": 37,
   "metadata": {},
   "outputs": [],
   "source": [
    "gas_price = list(blockdf2.groupby('block_number')['gas_price'].sum()) #total gas price per block column"
   ]
  },
  {
   "cell_type": "code",
   "execution_count": 55,
   "metadata": {},
   "outputs": [],
   "source": [
    "final_df = pd.DataFrame(blockdf2.groupby('block_number')['miner_reward'].sum()) #quantifies raw MEV per block (in wei)"
   ]
  },
  {
   "cell_type": "code",
   "execution_count": 56,
   "metadata": {},
   "outputs": [],
   "source": [
    "final_df['gas_used'] = gas_used        # adding columns into final df\n",
    "final_df['gas_price'] = gas_price"
   ]
  },
  {
   "cell_type": "code",
   "execution_count": 57,
   "metadata": {},
   "outputs": [
    {
     "data": {
      "text/html": [
       "<div>\n",
       "<style scoped>\n",
       "    .dataframe tbody tr th:only-of-type {\n",
       "        vertical-align: middle;\n",
       "    }\n",
       "\n",
       "    .dataframe tbody tr th {\n",
       "        vertical-align: top;\n",
       "    }\n",
       "\n",
       "    .dataframe thead th {\n",
       "        text-align: right;\n",
       "    }\n",
       "</style>\n",
       "<table border=\"1\" class=\"dataframe\">\n",
       "  <thead>\n",
       "    <tr style=\"text-align: right;\">\n",
       "      <th></th>\n",
       "      <th>miner_reward</th>\n",
       "      <th>gas_used</th>\n",
       "      <th>gas_price</th>\n",
       "    </tr>\n",
       "    <tr>\n",
       "      <th>block_number</th>\n",
       "      <th></th>\n",
       "      <th></th>\n",
       "      <th></th>\n",
       "    </tr>\n",
       "  </thead>\n",
       "  <tbody>\n",
       "    <tr>\n",
       "      <th>15499457</th>\n",
       "      <td>3656032165854100</td>\n",
       "      <td>690527</td>\n",
       "      <td>5294553530</td>\n",
       "    </tr>\n",
       "    <tr>\n",
       "      <th>15499461</th>\n",
       "      <td>27818699083702895</td>\n",
       "      <td>4305998</td>\n",
       "      <td>6460453322</td>\n",
       "    </tr>\n",
       "    <tr>\n",
       "      <th>15499462</th>\n",
       "      <td>71185786003524985</td>\n",
       "      <td>782759</td>\n",
       "      <td>90942149503</td>\n",
       "    </tr>\n",
       "    <tr>\n",
       "      <th>15499465</th>\n",
       "      <td>30407951822936158</td>\n",
       "      <td>2024395</td>\n",
       "      <td>15020760189</td>\n",
       "    </tr>\n",
       "    <tr>\n",
       "      <th>15499466</th>\n",
       "      <td>4807954373211815</td>\n",
       "      <td>353089</td>\n",
       "      <td>13616834206</td>\n",
       "    </tr>\n",
       "  </tbody>\n",
       "</table>\n",
       "</div>"
      ],
      "text/plain": [
       "                   miner_reward  gas_used    gas_price\n",
       "block_number                                          \n",
       "15499457       3656032165854100    690527   5294553530\n",
       "15499461      27818699083702895   4305998   6460453322\n",
       "15499462      71185786003524985    782759  90942149503\n",
       "15499465      30407951822936158   2024395  15020760189\n",
       "15499466       4807954373211815    353089  13616834206"
      ]
     },
     "execution_count": 57,
     "metadata": {},
     "output_type": "execute_result"
    }
   ],
   "source": [
    "final_df.head()  # propose using gas price as alternative to fluctuating eth price for time being, need to possibly query separate api with number of different oracles to obtain accurate eth price data per block"
   ]
  },
  {
   "cell_type": "code",
   "execution_count": 58,
   "metadata": {},
   "outputs": [],
   "source": [
    "def condition(x):\n",
    "    if 0 <= x <= 4.32*(10**14):\n",
    "         return 1\n",
    "    elif 4.32*(10**14) < x <= 3.39*(10**15):\n",
    "        return 2\n",
    "    elif x > 3.39*(10**15):\n",
    "        return 3"
   ]
  },
  {
   "cell_type": "code",
   "execution_count": 60,
   "metadata": {},
   "outputs": [],
   "source": [
    "final_df['miner_reward'] = final_df['miner_reward'].astype('float') # change column data type so it will work with lambda condition"
   ]
  },
  {
   "cell_type": "code",
   "execution_count": 61,
   "metadata": {},
   "outputs": [
    {
     "data": {
      "text/plain": [
       "miner_reward    float64\n",
       "gas_used          int64\n",
       "gas_price        object\n",
       "dtype: object"
      ]
     },
     "execution_count": 61,
     "metadata": {},
     "output_type": "execute_result"
    }
   ],
   "source": [
    "final_df.dtypes"
   ]
  },
  {
   "cell_type": "code",
   "execution_count": 62,
   "metadata": {},
   "outputs": [],
   "source": [
    "final_df['MEV_category'] = final_df['miner_reward'].apply(condition) # new MEV category column"
   ]
  },
  {
   "cell_type": "code",
   "execution_count": 63,
   "metadata": {},
   "outputs": [
    {
     "data": {
      "text/html": [
       "<div>\n",
       "<style scoped>\n",
       "    .dataframe tbody tr th:only-of-type {\n",
       "        vertical-align: middle;\n",
       "    }\n",
       "\n",
       "    .dataframe tbody tr th {\n",
       "        vertical-align: top;\n",
       "    }\n",
       "\n",
       "    .dataframe thead th {\n",
       "        text-align: right;\n",
       "    }\n",
       "</style>\n",
       "<table border=\"1\" class=\"dataframe\">\n",
       "  <thead>\n",
       "    <tr style=\"text-align: right;\">\n",
       "      <th></th>\n",
       "      <th>block_number</th>\n",
       "      <th>miner_reward</th>\n",
       "      <th>gas_used</th>\n",
       "      <th>gas_price</th>\n",
       "      <th>MEV_category</th>\n",
       "    </tr>\n",
       "  </thead>\n",
       "  <tbody>\n",
       "    <tr>\n",
       "      <th>0</th>\n",
       "      <td>15499457</td>\n",
       "      <td>3.656032e+15</td>\n",
       "      <td>690527</td>\n",
       "      <td>5294553530</td>\n",
       "      <td>3</td>\n",
       "    </tr>\n",
       "    <tr>\n",
       "      <th>1</th>\n",
       "      <td>15499461</td>\n",
       "      <td>2.781870e+16</td>\n",
       "      <td>4305998</td>\n",
       "      <td>6460453322</td>\n",
       "      <td>3</td>\n",
       "    </tr>\n",
       "    <tr>\n",
       "      <th>2</th>\n",
       "      <td>15499462</td>\n",
       "      <td>7.118579e+16</td>\n",
       "      <td>782759</td>\n",
       "      <td>90942149503</td>\n",
       "      <td>3</td>\n",
       "    </tr>\n",
       "    <tr>\n",
       "      <th>3</th>\n",
       "      <td>15499465</td>\n",
       "      <td>3.040795e+16</td>\n",
       "      <td>2024395</td>\n",
       "      <td>15020760189</td>\n",
       "      <td>3</td>\n",
       "    </tr>\n",
       "    <tr>\n",
       "      <th>4</th>\n",
       "      <td>15499466</td>\n",
       "      <td>4.807954e+15</td>\n",
       "      <td>353089</td>\n",
       "      <td>13616834206</td>\n",
       "      <td>3</td>\n",
       "    </tr>\n",
       "    <tr>\n",
       "      <th>...</th>\n",
       "      <td>...</td>\n",
       "      <td>...</td>\n",
       "      <td>...</td>\n",
       "      <td>...</td>\n",
       "      <td>...</td>\n",
       "    </tr>\n",
       "    <tr>\n",
       "      <th>95</th>\n",
       "      <td>15499672</td>\n",
       "      <td>2.107610e+16</td>\n",
       "      <td>850663</td>\n",
       "      <td>24776091493</td>\n",
       "      <td>3</td>\n",
       "    </tr>\n",
       "    <tr>\n",
       "      <th>96</th>\n",
       "      <td>15499673</td>\n",
       "      <td>3.021379e+16</td>\n",
       "      <td>1327213</td>\n",
       "      <td>22764835285</td>\n",
       "      <td>3</td>\n",
       "    </tr>\n",
       "    <tr>\n",
       "      <th>97</th>\n",
       "      <td>15499674</td>\n",
       "      <td>5.518681e+16</td>\n",
       "      <td>1028814</td>\n",
       "      <td>53641194194</td>\n",
       "      <td>3</td>\n",
       "    </tr>\n",
       "    <tr>\n",
       "      <th>98</th>\n",
       "      <td>15499675</td>\n",
       "      <td>1.739566e+16</td>\n",
       "      <td>1358972</td>\n",
       "      <td>12800598568</td>\n",
       "      <td>3</td>\n",
       "    </tr>\n",
       "    <tr>\n",
       "      <th>99</th>\n",
       "      <td>15499678</td>\n",
       "      <td>4.608400e+14</td>\n",
       "      <td>115210</td>\n",
       "      <td>4000000000</td>\n",
       "      <td>2</td>\n",
       "    </tr>\n",
       "  </tbody>\n",
       "</table>\n",
       "<p>100 rows × 5 columns</p>\n",
       "</div>"
      ],
      "text/plain": [
       "    block_number  miner_reward  gas_used    gas_price  MEV_category\n",
       "0       15499457  3.656032e+15    690527   5294553530             3\n",
       "1       15499461  2.781870e+16   4305998   6460453322             3\n",
       "2       15499462  7.118579e+16    782759  90942149503             3\n",
       "3       15499465  3.040795e+16   2024395  15020760189             3\n",
       "4       15499466  4.807954e+15    353089  13616834206             3\n",
       "..           ...           ...       ...          ...           ...\n",
       "95      15499672  2.107610e+16    850663  24776091493             3\n",
       "96      15499673  3.021379e+16   1327213  22764835285             3\n",
       "97      15499674  5.518681e+16   1028814  53641194194             3\n",
       "98      15499675  1.739566e+16   1358972  12800598568             3\n",
       "99      15499678  4.608400e+14    115210   4000000000             2\n",
       "\n",
       "[100 rows x 5 columns]"
      ]
     },
     "execution_count": 63,
     "metadata": {},
     "output_type": "execute_result"
    }
   ],
   "source": [
    "final_df.reset_index() #use this if you want to remove the remove the index - use 'inplace=True' as argument"
   ]
  },
  {
   "cell_type": "code",
   "execution_count": 43,
   "metadata": {},
   "outputs": [],
   "source": [
    "blockdf.to_csv('final_df.csv') # how you would convert final dataframe to csv"
   ]
  }
 ],
 "metadata": {
  "kernelspec": {
   "display_name": "Python 3",
   "language": "python",
   "name": "python3"
  },
  "language_info": {
   "codemirror_mode": {
    "name": "ipython",
    "version": 3
   },
   "file_extension": ".py",
   "mimetype": "text/x-python",
   "name": "python",
   "nbconvert_exporter": "python",
   "pygments_lexer": "ipython3",
   "version": "3.8.8"
  },
  "toc": {
   "base_numbering": 1,
   "nav_menu": {},
   "number_sections": true,
   "sideBar": true,
   "skip_h1_title": false,
   "title_cell": "Table of Contents",
   "title_sidebar": "Contents",
   "toc_cell": false,
   "toc_position": {},
   "toc_section_display": true,
   "toc_window_display": false
  },
  "vscode": {
   "interpreter": {
    "hash": "d0eb2f5024e124ec1feb220fe4b47c5ac094eaa207eb328b7339fb64a55e39f3"
   }
  }
 },
 "nbformat": 4,
 "nbformat_minor": 4
}
