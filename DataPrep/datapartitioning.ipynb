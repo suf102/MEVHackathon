{
 "cells": [
  {
   "cell_type": "markdown",
   "metadata": {},
   "source": [
    "## Data partitioning\n",
    "\n",
    "In this notebook we will take the conditioned data that we have, the data should be in the form of a two collumn csv that has the block numvber on the left and the MEV quantity sorted in to none = 0, low = 1, medium = 2, and high =3. "
   ]
  },
  {
   "cell_type": "code",
   "execution_count": 2,
   "metadata": {},
   "outputs": [],
   "source": [
    "import numpy as np \n",
    "import pandas as pd\n",
    "from numpy import genfromtxt\n",
    "import multiprocessing as mp\n",
    "from multiprocessing import Pool\n",
    "from numba import jit\n",
    "import json\n",
    "import csv"
   ]
  },
  {
   "cell_type": "code",
   "execution_count": 4,
   "metadata": {},
   "outputs": [
    {
     "name": "stdout",
     "output_type": "stream",
     "text": [
      "[[0.000000e+00 3.000000e+00]\n",
      " [1.000000e+00 2.000000e+00]\n",
      " [2.000000e+00 0.000000e+00]\n",
      " ...\n",
      " [9.999997e+06 3.000000e+00]\n",
      " [9.999998e+06 2.000000e+00]\n",
      " [9.999999e+06 2.000000e+00]]\n",
      "(10000000, 2)\n"
     ]
    }
   ],
   "source": [
    "#let pull the data in and so that we can check how big the files are. \n",
    "\n",
    "my_data = genfromtxt('../Ethdata/randomdata.csv', delimiter=',')\n",
    "print(my_data)\n",
    "print(np.shape(my_data))\n"
   ]
  },
  {
   "cell_type": "code",
   "execution_count": 5,
   "metadata": {},
   "outputs": [
    {
     "name": "stdout",
     "output_type": "stream",
     "text": [
      "[[3. 2. 0.]\n",
      " [2. 0. 2.]\n",
      " [0. 2. 1.]\n",
      " ...\n",
      " [3. 2. 0.]\n",
      " [2. 0. 3.]\n",
      " [0. 3. 2.]]\n"
     ]
    }
   ],
   "source": [
    "#what this function will do is take one data point and the next two after, the next one after will be used with that one for the x part of the data and the third will be the y position, \n",
    "#the awnser that we are asking here is can you predict the next MEV quantity based on the two before. This might look a little ardious, however doing it this way all in np, is much \n",
    "#much mich faster than trying to do it any other way, a for loop over 10000000 data entries would just take way too long. \n",
    "\n",
    "datalets = np.zeros((np.shape(my_data)[0],3))\n",
    "\n",
    "datalets[:,0] = my_data[:,1]\n",
    "\n",
    "my_data2 = np.delete(my_data[:,1],0,0)\n",
    "\n",
    "my_data2 = np.append(my_data2,[0])\n",
    "\n",
    "datalets[:,1] = my_data2\n",
    "\n",
    "my_data3 = np.delete(my_data[:,1],[0,1],0)\n",
    "\n",
    "my_data3 = np.append(my_data3,[0,0])\n",
    "\n",
    "datalets[:,2] = my_data3\n",
    "\n",
    "#lastly we need to delete the last three rows, as I had to just input zeros there to to that the array didn't have any missing point,\n",
    "\n",
    "datalets = np.delete(datalets,[-1,-2,-3],0)\n",
    "\n",
    "print(datalets)\n"
   ]
  },
  {
   "cell_type": "code",
   "execution_count": 10,
   "metadata": {},
   "outputs": [
    {
     "name": "stdout",
     "output_type": "stream",
     "text": [
      "{'datalet2': array([[3, 2],\n",
      "       [2, 0],\n",
      "       [0, 2],\n",
      "       ...,\n",
      "       [2, 0],\n",
      "       [0, 3],\n",
      "       [3, 2]]), 'datalet3': array([[3, 2, 0],\n",
      "       [2, 0, 2],\n",
      "       [0, 2, 1],\n",
      "       ...,\n",
      "       [3, 2, 0],\n",
      "       [2, 0, 3],\n",
      "       [0, 3, 2]]), 'datalet4': array([[3, 2, 0, 2],\n",
      "       [2, 0, 2, 1],\n",
      "       [0, 2, 1, 1],\n",
      "       ...,\n",
      "       [3, 3, 2, 0],\n",
      "       [3, 2, 0, 3],\n",
      "       [2, 0, 3, 2]]), 'datalet5': array([[3, 2, 0, 2, 1],\n",
      "       [2, 0, 2, 1, 1],\n",
      "       [0, 2, 1, 1, 0],\n",
      "       ...,\n",
      "       [3, 3, 3, 2, 0],\n",
      "       [3, 3, 2, 0, 3],\n",
      "       [3, 2, 0, 3, 2]]), 'datalet6': array([[3, 2, 0, 2, 1, 1],\n",
      "       [2, 0, 2, 1, 1, 0],\n",
      "       [0, 2, 1, 1, 0, 1],\n",
      "       ...,\n",
      "       [0, 3, 3, 3, 2, 0],\n",
      "       [3, 3, 3, 2, 0, 3],\n",
      "       [3, 3, 2, 0, 3, 2]]), 'datalet7': array([[3, 2, 0, ..., 1, 1, 0],\n",
      "       [2, 0, 2, ..., 1, 0, 1],\n",
      "       [0, 2, 1, ..., 0, 1, 3],\n",
      "       ...,\n",
      "       [3, 0, 3, ..., 3, 2, 0],\n",
      "       [0, 3, 3, ..., 2, 0, 3],\n",
      "       [3, 3, 3, ..., 0, 3, 2]]), 'datalet8': array([[3, 2, 0, ..., 1, 0, 1],\n",
      "       [2, 0, 2, ..., 0, 1, 3],\n",
      "       [0, 2, 1, ..., 1, 3, 2],\n",
      "       ...,\n",
      "       [3, 3, 0, ..., 3, 2, 0],\n",
      "       [3, 0, 3, ..., 2, 0, 3],\n",
      "       [0, 3, 3, ..., 0, 3, 2]]), 'datalet9': array([[3, 2, 0, ..., 0, 1, 3],\n",
      "       [2, 0, 2, ..., 1, 3, 2],\n",
      "       [0, 2, 1, ..., 3, 2, 3],\n",
      "       ...,\n",
      "       [3, 3, 3, ..., 3, 2, 0],\n",
      "       [3, 3, 0, ..., 2, 0, 3],\n",
      "       [3, 0, 3, ..., 0, 3, 2]])}\n"
     ]
    }
   ],
   "source": [
    "# Ok now lets automate doing that a bunch more times so we aren't doing this for every datalet length. \n",
    "\n",
    "#start by making a dictionary to hold all this data\n",
    "\n",
    "datalets = {}\n",
    "\n",
    "# Then we loop over, the default is set from 2-10, this is the length of hte data length, the x vector will be one less than this. \n",
    "\n",
    "for i in range(2,10):\n",
    "    \n",
    "    # Start with an all zeros np array so we can get started, it will have i columns because that is the number of \n",
    "    \n",
    "    datalet = np.zeros((np.shape(my_data)[0],i))\n",
    "    \n",
    "    for j in range(i):\n",
    "        data = np.delete(my_data[:,1],range(j),0)\n",
    "        data = np.append(data,range(j))\n",
    "        data = data.astype(int)\n",
    "        datalet[:,j] = data\n",
    "        \n",
    "    datalet = datalet.astype(int)\n",
    "    datalet = np.delete(datalet,range(i*(-1),0),0)\n",
    "        \n",
    "    datalets[\"datalet{}\".format(i)] = datalet\n",
    "\n",
    "print(datalets)  "
   ]
  },
  {
   "cell_type": "markdown",
   "metadata": {},
   "source": [
    "## Saving these datalets as CSVs"
   ]
  },
  {
   "cell_type": "code",
   "execution_count": 11,
   "metadata": {},
   "outputs": [],
   "source": [
    "for x,y in datalets.items():\n",
    "    headers = []\n",
    "    for i in range(np.shape(y)[1]):\n",
    "        headers.append('period{}'.format(i))\n",
    "    headerstr = ','.join(map(str,headers))\n",
    "    np.savetxt(\"..\\datelets\\{}.csv\".format(x), y, delimiter=\",\", header= headerstr, comments = '')"
   ]
  }
 ],
 "metadata": {
  "kernelspec": {
   "display_name": "Python 3.9.12 ('base')",
   "language": "python",
   "name": "python3"
  },
  "language_info": {
   "codemirror_mode": {
    "name": "ipython",
    "version": 3
   },
   "file_extension": ".py",
   "mimetype": "text/x-python",
   "name": "python",
   "nbconvert_exporter": "python",
   "pygments_lexer": "ipython3",
   "version": "3.9.12"
  },
  "orig_nbformat": 4,
  "vscode": {
   "interpreter": {
    "hash": "ad2bdc8ecc057115af97d19610ffacc2b4e99fae6737bb82f5d7fb13d2f2c186"
   }
  }
 },
 "nbformat": 4,
 "nbformat_minor": 2
}
