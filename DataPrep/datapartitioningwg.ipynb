{
 "cells": [
  {
   "cell_type": "markdown",
   "metadata": {},
   "source": [
    "## Data partitioning\n",
    "\n",
    "In this notebook we will take the conditioned data that we have, the data should be in the form of a two column csv that has the block numvber on the left and the MEV quantity sorted in to none = 0, low = 1, medium = 2, and high =3. This notebook is specifically for the data with the gas fees at the time. "
   ]
  },
  {
   "cell_type": "code",
   "execution_count": 5,
   "metadata": {},
   "outputs": [],
   "source": [
    "import numpy as np \n",
    "import pandas as pd\n",
    "from numpy import genfromtxt\n",
    "import multiprocessing as mp\n",
    "from multiprocessing import Pool\n",
    "from numba import jit\n",
    "import json\n",
    "import csv"
   ]
  },
  {
   "cell_type": "code",
   "execution_count": 6,
   "metadata": {},
   "outputs": [
    {
     "name": "stdout",
     "output_type": "stream",
     "text": [
      "[[0.00000000e+00 0.00000000e+00 1.98154427e-01 9.46973934e-01]\n",
      " [1.00000000e+00 0.00000000e+00 6.83638545e-01 9.60687587e-01]\n",
      " [2.00000000e+00 2.00000000e+00 7.70325619e-01 6.00440699e-01]\n",
      " ...\n",
      " [9.99700000e+03 0.00000000e+00 5.39771049e-01 8.64339524e-01]\n",
      " [9.99800000e+03 1.00000000e+00 1.09247664e-01 3.61917679e-01]\n",
      " [9.99900000e+03 1.00000000e+00 8.65879473e-01 1.58786966e-01]]\n",
      "(10000, 4)\n"
     ]
    }
   ],
   "source": [
    "#let pull the data in and so that we can check how big the files are. \n",
    "\n",
    "my_data = genfromtxt('../Ethdata/randomdatawg.csv', delimiter=',')\n",
    "print(my_data)\n",
    "print(np.shape(my_data))\n"
   ]
  },
  {
   "cell_type": "code",
   "execution_count": 7,
   "metadata": {},
   "outputs": [
    {
     "name": "stdout",
     "output_type": "stream",
     "text": [
      "{'datalet2': array([[0.        , 0.        , 0.19815443, 0.68363854, 0.94697393,\n",
      "        0.96068759],\n",
      "       [0.        , 2.        , 0.68363854, 0.77032562, 0.96068759,\n",
      "        0.6004407 ],\n",
      "       [2.        , 3.        , 0.77032562, 0.27758645, 0.6004407 ,\n",
      "        0.9772475 ],\n",
      "       ...,\n",
      "       [0.        , 3.        , 0.023214  , 0.71018044, 0.6864031 ,\n",
      "        0.71695123],\n",
      "       [3.        , 0.        , 0.71018044, 0.53977105, 0.71695123,\n",
      "        0.86433952],\n",
      "       [0.        , 1.        , 0.53977105, 0.10924766, 0.86433952,\n",
      "        0.36191768]]), 'datalet3': array([[0.        , 0.        , 2.        , ..., 0.94697393, 0.96068759,\n",
      "        0.6004407 ],\n",
      "       [0.        , 2.        , 3.        , ..., 0.96068759, 0.6004407 ,\n",
      "        0.9772475 ],\n",
      "       [2.        , 3.        , 0.        , ..., 0.6004407 , 0.9772475 ,\n",
      "        0.04473486],\n",
      "       ...,\n",
      "       [1.        , 0.        , 3.        , ..., 0.94273608, 0.6864031 ,\n",
      "        0.71695123],\n",
      "       [0.        , 3.        , 0.        , ..., 0.6864031 , 0.71695123,\n",
      "        0.86433952],\n",
      "       [3.        , 0.        , 1.        , ..., 0.71695123, 0.86433952,\n",
      "        0.36191768]]), 'datalet4': array([[0.        , 0.        , 2.        , ..., 0.96068759, 0.6004407 ,\n",
      "        0.9772475 ],\n",
      "       [0.        , 2.        , 3.        , ..., 0.6004407 , 0.9772475 ,\n",
      "        0.04473486],\n",
      "       [2.        , 3.        , 0.        , ..., 0.9772475 , 0.04473486,\n",
      "        0.16592603],\n",
      "       ...,\n",
      "       [1.        , 1.        , 0.        , ..., 0.94273608, 0.6864031 ,\n",
      "        0.71695123],\n",
      "       [1.        , 0.        , 3.        , ..., 0.6864031 , 0.71695123,\n",
      "        0.86433952],\n",
      "       [0.        , 3.        , 0.        , ..., 0.71695123, 0.86433952,\n",
      "        0.36191768]]), 'datalet5': array([[0.        , 0.        , 2.        , ..., 0.6004407 , 0.9772475 ,\n",
      "        0.04473486],\n",
      "       [0.        , 2.        , 3.        , ..., 0.9772475 , 0.04473486,\n",
      "        0.16592603],\n",
      "       [2.        , 3.        , 0.        , ..., 0.04473486, 0.16592603,\n",
      "        0.21916497],\n",
      "       ...,\n",
      "       [0.        , 1.        , 1.        , ..., 0.94273608, 0.6864031 ,\n",
      "        0.71695123],\n",
      "       [1.        , 1.        , 0.        , ..., 0.6864031 , 0.71695123,\n",
      "        0.86433952],\n",
      "       [1.        , 0.        , 3.        , ..., 0.71695123, 0.86433952,\n",
      "        0.36191768]]), 'datalet6': array([[0.        , 0.        , 2.        , ..., 0.9772475 , 0.04473486,\n",
      "        0.16592603],\n",
      "       [0.        , 2.        , 3.        , ..., 0.04473486, 0.16592603,\n",
      "        0.21916497],\n",
      "       [2.        , 3.        , 0.        , ..., 0.16592603, 0.21916497,\n",
      "        0.11444229],\n",
      "       ...,\n",
      "       [1.        , 0.        , 1.        , ..., 0.94273608, 0.6864031 ,\n",
      "        0.71695123],\n",
      "       [0.        , 1.        , 1.        , ..., 0.6864031 , 0.71695123,\n",
      "        0.86433952],\n",
      "       [1.        , 1.        , 0.        , ..., 0.71695123, 0.86433952,\n",
      "        0.36191768]]), 'datalet7': array([[0.        , 0.        , 2.        , ..., 0.04473486, 0.16592603,\n",
      "        0.21916497],\n",
      "       [0.        , 2.        , 3.        , ..., 0.16592603, 0.21916497,\n",
      "        0.11444229],\n",
      "       [2.        , 3.        , 0.        , ..., 0.21916497, 0.11444229,\n",
      "        0.03831876],\n",
      "       ...,\n",
      "       [2.        , 1.        , 0.        , ..., 0.94273608, 0.6864031 ,\n",
      "        0.71695123],\n",
      "       [1.        , 0.        , 1.        , ..., 0.6864031 , 0.71695123,\n",
      "        0.86433952],\n",
      "       [0.        , 1.        , 1.        , ..., 0.71695123, 0.86433952,\n",
      "        0.36191768]]), 'datalet8': array([[0.        , 0.        , 2.        , ..., 0.16592603, 0.21916497,\n",
      "        0.11444229],\n",
      "       [0.        , 2.        , 3.        , ..., 0.21916497, 0.11444229,\n",
      "        0.03831876],\n",
      "       [2.        , 3.        , 0.        , ..., 0.11444229, 0.03831876,\n",
      "        0.64441882],\n",
      "       ...,\n",
      "       [1.        , 2.        , 1.        , ..., 0.94273608, 0.6864031 ,\n",
      "        0.71695123],\n",
      "       [2.        , 1.        , 0.        , ..., 0.6864031 , 0.71695123,\n",
      "        0.86433952],\n",
      "       [1.        , 0.        , 1.        , ..., 0.71695123, 0.86433952,\n",
      "        0.36191768]]), 'datalet9': array([[0.        , 0.        , 2.        , ..., 0.21916497, 0.11444229,\n",
      "        0.03831876],\n",
      "       [0.        , 2.        , 3.        , ..., 0.11444229, 0.03831876,\n",
      "        0.64441882],\n",
      "       [2.        , 3.        , 0.        , ..., 0.03831876, 0.64441882,\n",
      "        0.23187912],\n",
      "       ...,\n",
      "       [2.        , 1.        , 2.        , ..., 0.94273608, 0.6864031 ,\n",
      "        0.71695123],\n",
      "       [1.        , 2.        , 1.        , ..., 0.6864031 , 0.71695123,\n",
      "        0.86433952],\n",
      "       [2.        , 1.        , 0.        , ..., 0.71695123, 0.86433952,\n",
      "        0.36191768]])}\n"
     ]
    }
   ],
   "source": [
    "# This cell will make what I am refering to as datalets, these are strings of n periods, infact this will create all of the strings of n periods from the data available\n",
    "# we will use these to train tha models. \n",
    "\n",
    "#this parameter will set what the maximum datalet length will be i.e. how many blocks back we want to go to predict the MEV level of the next block\n",
    "\n",
    "n = 9\n",
    "\n",
    "#start by making a dictionary to hold all this data\n",
    "\n",
    "datalets = {}\n",
    "\n",
    "# Then we loop over, the default is set from 2-10, this is the length of hte data length, the x vector will be one less than this. \n",
    "\n",
    "for i in range(2,n+1):\n",
    "    \n",
    "    # Start with an all zeros np array so we can get started, it will have 3i collumns as each period has three bits of data, the mev, gas fees and price volitility\n",
    "    \n",
    "    datalet = np.zeros((np.shape(my_data)[0],i*3))\n",
    "    \n",
    "    # these lines wil shift the rows up and add them as the next collumn in the datalets, it is done three times to do it for the MEV, gas fees and price volatility\n",
    "    \n",
    "    for j in range(i):\n",
    "        data = np.delete(my_data[:,1],range(j),0)\n",
    "        data = np.append(data,range(j))\n",
    "        data = data.astype(int)\n",
    "        datalet[:,j] = data\n",
    "\n",
    "        data = np.delete(my_data[:,2],range(j),0)\n",
    "        data = np.append(data,range(j))\n",
    "        data = data.astype(float)\n",
    "        datalet[:,i+j] = data        \n",
    "        \n",
    "    #in the process above we create some nonsense rows and this just makes sure they are removed\n",
    "               \n",
    "    datalet = datalet.astype(float)\n",
    "    datalet = np.delete(datalet,range(i*(-1),0),0)\n",
    "        \n",
    "    datalets[\"datalet{}\".format(i)] = datalet\n",
    "\n",
    "print(datalets)  "
   ]
  },
  {
   "cell_type": "markdown",
   "metadata": {},
   "source": [
    "## Saving these datalets as CSVs"
   ]
  },
  {
   "cell_type": "code",
   "execution_count": 8,
   "metadata": {},
   "outputs": [],
   "source": [
    "#first we just need to make the column headings which is what the headers do, then save it all to a csv file. \n",
    "\n",
    "for x,y in datalets.items():\n",
    "    headers = []\n",
    "    for i in range(int(np.shape(y)[1]/3)):\n",
    "        headers.append('Mev_period{}'.format(i))\n",
    "    for i in range(int(np.shape(y)[1]/3)):\n",
    "        headers.append('gas_fees_period{}'.format(i))\n",
    "    headerstr = ','.join(map(str,headers))\n",
    "    np.savetxt(\"..\\dataletswgv\\{}.csv\".format(x), y, delimiter=\",\", header= headerstr, comments = '')"
   ]
  }
 ],
 "metadata": {
  "kernelspec": {
   "display_name": "Python 3.8.9 64-bit",
   "language": "python",
   "name": "python3"
  },
  "language_info": {
   "codemirror_mode": {
    "name": "ipython",
    "version": 3
   },
   "file_extension": ".py",
   "mimetype": "text/x-python",
   "name": "python",
   "nbconvert_exporter": "python",
   "pygments_lexer": "ipython3",
   "version": "3.8.9"
  },
  "orig_nbformat": 4,
  "vscode": {
   "interpreter": {
    "hash": "31f2aee4e71d21fbe5cf8b01ff0e069b9275f58929596ceb00d14d90e3e16cd6"
   }
  }
 },
 "nbformat": 4,
 "nbformat_minor": 2
}
