{
 "cells": [
  {
   "cell_type": "markdown",
   "metadata": {},
   "source": [
    "## Data partitioning\n",
    "\n",
    "In this notebook we will take the conditioned data that we have, the data should be in the form of a two collumn csv that has the block numvber on the left and the MEV quantity sorted in to none = 0, low = 1, medium = 2, and high =3. "
   ]
  },
  {
   "cell_type": "code",
   "execution_count": 43,
   "metadata": {},
   "outputs": [],
   "source": [
    "import numpy as np \n",
    "import pandas as pd\n",
    "from numpy import genfromtxt\n",
    "import multiprocessing as mp\n",
    "from multiprocessing import Pool\n",
    "from numba import jit\n",
    "import json\n",
    "import csv"
   ]
  },
  {
   "cell_type": "code",
   "execution_count": 44,
   "metadata": {},
   "outputs": [
    {
     "name": "stdout",
     "output_type": "stream",
     "text": [
      "[[0.00000000e+00 2.00000000e+00 8.75339849e-01 8.70496361e-01]\n",
      " [1.00000000e+00 0.00000000e+00 6.64251242e-01 9.95776649e-01]\n",
      " [2.00000000e+00 2.00000000e+00 5.17810565e-01 8.59385246e-01]\n",
      " ...\n",
      " [9.99700000e+03 1.00000000e+00 3.13720353e-01 7.07850871e-01]\n",
      " [9.99800000e+03 3.00000000e+00 5.12175624e-01 5.64553907e-01]\n",
      " [9.99900000e+03 3.00000000e+00 5.54034209e-02 3.86228289e-01]]\n",
      "(10000, 4)\n"
     ]
    }
   ],
   "source": [
    "#let pull the data in and so that we can check how big the files are. \n",
    "\n",
    "my_data = genfromtxt('../Ethdata/randomdatawgv.csv', delimiter=',')\n",
    "print(my_data)\n",
    "print(np.shape(my_data))\n"
   ]
  },
  {
   "cell_type": "markdown",
   "metadata": {},
   "source": [
    "#what this function will do is take one data point and the next two after, the next one after will be used with that one for the x part of the data and the third will be the y position, \n",
    "#the awnser that we are asking here is can you predict the next MEV quantity based on the two before. This might look a little ardious, however doing it this way all in np, is much \n",
    "#much mich faster than trying to do it any other way, a for loop over 10000000 data entries would just take way too long. \n",
    "\n",
    "datalets = np.zeros((np.shape(my_data)[0],3))\n",
    "\n",
    "datalets[:,0] = my_data[:,1]\n",
    "\n",
    "my_data2 = np.delete(my_data[:,1],0,0)\n",
    "\n",
    "my_data2 = np.append(my_data2,[0])\n",
    "\n",
    "datalets[:,1] = my_data2\n",
    "\n",
    "my_data3 = np.delete(my_data[:,1],[0,1],0)\n",
    "\n",
    "my_data3 = np.append(my_data3,[0,0])\n",
    "\n",
    "datalets[:,2] = my_data3\n",
    "\n",
    "#lastly we need to delete the last three rows, as I had to just input zeros there to to that the array didn't have any missing point,\n",
    "\n",
    "datalets = np.delete(datalets,[-1,-2,-3],0)\n",
    "\n",
    "print(datalets)\n"
   ]
  },
  {
   "cell_type": "code",
   "execution_count": 45,
   "metadata": {},
   "outputs": [
    {
     "name": "stdout",
     "output_type": "stream",
     "text": [
      "{'datalet2': array([[2.        , 0.        , 0.87533985, 0.66425124, 0.87049636,\n",
      "        0.99577665],\n",
      "       [0.        , 2.        , 0.66425124, 0.51781056, 0.99577665,\n",
      "        0.85938525],\n",
      "       [2.        , 1.        , 0.51781056, 0.68443699, 0.85938525,\n",
      "        0.21365897],\n",
      "       ...,\n",
      "       [2.        , 1.        , 0.47889569, 0.28515119, 0.1297828 ,\n",
      "        0.08832347],\n",
      "       [1.        , 1.        , 0.28515119, 0.31372035, 0.08832347,\n",
      "        0.70785087],\n",
      "       [1.        , 3.        , 0.31372035, 0.51217562, 0.70785087,\n",
      "        0.56455391]]), 'datalet3': array([[2.        , 0.        , 2.        , ..., 0.87049636, 0.99577665,\n",
      "        0.85938525],\n",
      "       [0.        , 2.        , 1.        , ..., 0.99577665, 0.85938525,\n",
      "        0.21365897],\n",
      "       [2.        , 1.        , 3.        , ..., 0.85938525, 0.21365897,\n",
      "        0.12736657],\n",
      "       ...,\n",
      "       [0.        , 2.        , 1.        , ..., 0.50430803, 0.1297828 ,\n",
      "        0.08832347],\n",
      "       [2.        , 1.        , 1.        , ..., 0.1297828 , 0.08832347,\n",
      "        0.70785087],\n",
      "       [1.        , 1.        , 3.        , ..., 0.08832347, 0.70785087,\n",
      "        0.56455391]]), 'datalet4': array([[2.        , 0.        , 2.        , ..., 0.99577665, 0.85938525,\n",
      "        0.21365897],\n",
      "       [0.        , 2.        , 1.        , ..., 0.85938525, 0.21365897,\n",
      "        0.12736657],\n",
      "       [2.        , 1.        , 3.        , ..., 0.21365897, 0.12736657,\n",
      "        0.35876971],\n",
      "       ...,\n",
      "       [1.        , 0.        , 2.        , ..., 0.50430803, 0.1297828 ,\n",
      "        0.08832347],\n",
      "       [0.        , 2.        , 1.        , ..., 0.1297828 , 0.08832347,\n",
      "        0.70785087],\n",
      "       [2.        , 1.        , 1.        , ..., 0.08832347, 0.70785087,\n",
      "        0.56455391]]), 'datalet5': array([[2.        , 0.        , 2.        , ..., 0.85938525, 0.21365897,\n",
      "        0.12736657],\n",
      "       [0.        , 2.        , 1.        , ..., 0.21365897, 0.12736657,\n",
      "        0.35876971],\n",
      "       [2.        , 1.        , 3.        , ..., 0.12736657, 0.35876971,\n",
      "        0.36825252],\n",
      "       ...,\n",
      "       [3.        , 1.        , 0.        , ..., 0.50430803, 0.1297828 ,\n",
      "        0.08832347],\n",
      "       [1.        , 0.        , 2.        , ..., 0.1297828 , 0.08832347,\n",
      "        0.70785087],\n",
      "       [0.        , 2.        , 1.        , ..., 0.08832347, 0.70785087,\n",
      "        0.56455391]]), 'datalet6': array([[2.        , 0.        , 2.        , ..., 0.21365897, 0.12736657,\n",
      "        0.35876971],\n",
      "       [0.        , 2.        , 1.        , ..., 0.12736657, 0.35876971,\n",
      "        0.36825252],\n",
      "       [2.        , 1.        , 3.        , ..., 0.35876971, 0.36825252,\n",
      "        0.51220408],\n",
      "       ...,\n",
      "       [0.        , 3.        , 1.        , ..., 0.50430803, 0.1297828 ,\n",
      "        0.08832347],\n",
      "       [3.        , 1.        , 0.        , ..., 0.1297828 , 0.08832347,\n",
      "        0.70785087],\n",
      "       [1.        , 0.        , 2.        , ..., 0.08832347, 0.70785087,\n",
      "        0.56455391]]), 'datalet7': array([[2.        , 0.        , 2.        , ..., 0.12736657, 0.35876971,\n",
      "        0.36825252],\n",
      "       [0.        , 2.        , 1.        , ..., 0.35876971, 0.36825252,\n",
      "        0.51220408],\n",
      "       [2.        , 1.        , 3.        , ..., 0.36825252, 0.51220408,\n",
      "        0.83550967],\n",
      "       ...,\n",
      "       [3.        , 0.        , 3.        , ..., 0.50430803, 0.1297828 ,\n",
      "        0.08832347],\n",
      "       [0.        , 3.        , 1.        , ..., 0.1297828 , 0.08832347,\n",
      "        0.70785087],\n",
      "       [3.        , 1.        , 0.        , ..., 0.08832347, 0.70785087,\n",
      "        0.56455391]]), 'datalet8': array([[2.        , 0.        , 2.        , ..., 0.35876971, 0.36825252,\n",
      "        0.51220408],\n",
      "       [0.        , 2.        , 1.        , ..., 0.36825252, 0.51220408,\n",
      "        0.83550967],\n",
      "       [2.        , 1.        , 3.        , ..., 0.51220408, 0.83550967,\n",
      "        0.17499627],\n",
      "       ...,\n",
      "       [2.        , 3.        , 0.        , ..., 0.50430803, 0.1297828 ,\n",
      "        0.08832347],\n",
      "       [3.        , 0.        , 3.        , ..., 0.1297828 , 0.08832347,\n",
      "        0.70785087],\n",
      "       [0.        , 3.        , 1.        , ..., 0.08832347, 0.70785087,\n",
      "        0.56455391]]), 'datalet9': array([[2.        , 0.        , 2.        , ..., 0.36825252, 0.51220408,\n",
      "        0.83550967],\n",
      "       [0.        , 2.        , 1.        , ..., 0.51220408, 0.83550967,\n",
      "        0.17499627],\n",
      "       [2.        , 1.        , 3.        , ..., 0.83550967, 0.17499627,\n",
      "        0.51571931],\n",
      "       ...,\n",
      "       [1.        , 2.        , 3.        , ..., 0.50430803, 0.1297828 ,\n",
      "        0.08832347],\n",
      "       [2.        , 3.        , 0.        , ..., 0.1297828 , 0.08832347,\n",
      "        0.70785087],\n",
      "       [3.        , 0.        , 3.        , ..., 0.08832347, 0.70785087,\n",
      "        0.56455391]])}\n"
     ]
    }
   ],
   "source": [
    "# Ok now lets automate doing that a bunch more times so we aren't doing this for every datalet length. \n",
    "\n",
    "#start by making a dictionary to hold all this data\n",
    "\n",
    "datalets = {}\n",
    "\n",
    "# Then we loop over, the default is set from 2-10, this is the length of hte data length, the x vector will be one less than this. \n",
    "\n",
    "for i in range(2,10):\n",
    "    \n",
    "    # Start with an all zeros np array so we can get started, it will have i columns because that is the number of \n",
    "    \n",
    "    datalet = np.zeros((np.shape(my_data)[0],i*3))\n",
    "    \n",
    "    for j in range(i):\n",
    "        data = np.delete(my_data[:,1],range(j),0)\n",
    "        data = np.append(data,range(j))\n",
    "        data = data.astype(int)\n",
    "        datalet[:,j] = data\n",
    "\n",
    "        data = np.delete(my_data[:,2],range(j),0)\n",
    "        data = np.append(data,range(j))\n",
    "        data = data.astype(float)\n",
    "        datalet[:,i+j] = data        \n",
    "        \n",
    "        data = np.delete(my_data[:,3],range(j),0)\n",
    "        data = np.append(data,range(j))\n",
    "        data = data.astype(float)\n",
    "        datalet[:,2*i+j] = data        \n",
    "               \n",
    "    datalet = datalet.astype(float)\n",
    "    datalet = np.delete(datalet,range(i*(-1),0),0)\n",
    "        \n",
    "    datalets[\"datalet{}\".format(i)] = datalet\n",
    "\n",
    "print(datalets)  "
   ]
  },
  {
   "cell_type": "markdown",
   "metadata": {},
   "source": [
    "## Saving these datalets as CSVs"
   ]
  },
  {
   "cell_type": "code",
   "execution_count": 46,
   "metadata": {},
   "outputs": [],
   "source": [
    "for x,y in datalets.items():\n",
    "    headers = []\n",
    "    for i in range(int(np.shape(y)[1]/3)):\n",
    "        headers.append('Mev_period{}'.format(i))\n",
    "    for i in range(int(np.shape(y)[1]/3)):\n",
    "        headers.append('gas_fees_period{}'.format(i))\n",
    "    for i in range(int(np.shape(y)[1]/3)):\n",
    "        headers.append('price_volitility_period{}'.format(i))\n",
    "    headerstr = ','.join(map(str,headers))\n",
    "    np.savetxt(\"..\\dateletswgv\\{}.csv\".format(x), y, delimiter=\",\", header= headerstr, comments = '')"
   ]
  }
 ],
 "metadata": {
  "kernelspec": {
   "display_name": "Python 3.9.12 ('base')",
   "language": "python",
   "name": "python3"
  },
  "language_info": {
   "codemirror_mode": {
    "name": "ipython",
    "version": 3
   },
   "file_extension": ".py",
   "mimetype": "text/x-python",
   "name": "python",
   "nbconvert_exporter": "python",
   "pygments_lexer": "ipython3",
   "version": "3.9.12"
  },
  "orig_nbformat": 4,
  "vscode": {
   "interpreter": {
    "hash": "ad2bdc8ecc057115af97d19610ffacc2b4e99fae6737bb82f5d7fb13d2f2c186"
   }
  }
 },
 "nbformat": 4,
 "nbformat_minor": 2
}
