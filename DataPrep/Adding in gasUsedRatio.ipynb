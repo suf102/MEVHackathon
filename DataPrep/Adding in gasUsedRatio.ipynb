{
 "cells": [
  {
   "cell_type": "markdown",
   "id": "a7a0b3a2",
   "metadata": {},
   "source": [
    "Here, we add in gasUsedRatio as an exra column to our data. This is a ratio between gas used and gas price, from a free alchemy archive api. The request is limitd to 1024 blocks, so we have sent 10 separate requests in this example to get a total of 10,000 datapoints."
   ]
  },
  {
   "cell_type": "code",
   "execution_count": 15,
   "id": "9e8370f6",
   "metadata": {},
   "outputs": [],
   "source": [
    "import numpy as np\n",
    "import pandas as pd\n",
    "import requests\n",
    "from web3 import Web3, HTTPProvider\n",
    "from nltk import flatten"
   ]
  },
  {
   "cell_type": "code",
   "execution_count": 5,
   "id": "b65b2b46",
   "metadata": {},
   "outputs": [],
   "source": [
    "df = pd.read_csv('mev_sample.csv')  # use this to load in most up to date CSV"
   ]
  },
  {
   "cell_type": "code",
   "execution_count": 6,
   "id": "c0578fe8",
   "metadata": {},
   "outputs": [],
   "source": [
    "df2 = (df.set_index('block_number')\n",
    "   .reindex(range(df.block_number.iat[0],df.block_number.iat[-1]+1), fill_value=0)\n",
    "   .reset_index())   # get all blocks filled in (including 0 MEV blocks)"
   ]
  },
  {
   "cell_type": "code",
   "execution_count": 7,
   "id": "ff3fa3ff",
   "metadata": {},
   "outputs": [
    {
     "data": {
      "text/html": [
       "<div>\n",
       "<style scoped>\n",
       "    .dataframe tbody tr th:only-of-type {\n",
       "        vertical-align: middle;\n",
       "    }\n",
       "\n",
       "    .dataframe tbody tr th {\n",
       "        vertical-align: top;\n",
       "    }\n",
       "\n",
       "    .dataframe thead th {\n",
       "        text-align: right;\n",
       "    }\n",
       "</style>\n",
       "<table border=\"1\" class=\"dataframe\">\n",
       "  <thead>\n",
       "    <tr style=\"text-align: right;\">\n",
       "      <th></th>\n",
       "      <th>block_number</th>\n",
       "      <th>miner_reward</th>\n",
       "      <th>gas_used</th>\n",
       "      <th>gas_price</th>\n",
       "      <th>MEV_category</th>\n",
       "    </tr>\n",
       "  </thead>\n",
       "  <tbody>\n",
       "    <tr>\n",
       "      <th>0</th>\n",
       "      <td>11834049</td>\n",
       "      <td>3.720000e+17</td>\n",
       "      <td>4505938</td>\n",
       "      <td>8.261322e+10</td>\n",
       "      <td>3</td>\n",
       "    </tr>\n",
       "    <tr>\n",
       "      <th>1</th>\n",
       "      <td>11834050</td>\n",
       "      <td>0.000000e+00</td>\n",
       "      <td>0</td>\n",
       "      <td>0.000000e+00</td>\n",
       "      <td>0</td>\n",
       "    </tr>\n",
       "    <tr>\n",
       "      <th>2</th>\n",
       "      <td>11834051</td>\n",
       "      <td>0.000000e+00</td>\n",
       "      <td>0</td>\n",
       "      <td>0.000000e+00</td>\n",
       "      <td>0</td>\n",
       "    </tr>\n",
       "    <tr>\n",
       "      <th>3</th>\n",
       "      <td>11834052</td>\n",
       "      <td>0.000000e+00</td>\n",
       "      <td>0</td>\n",
       "      <td>0.000000e+00</td>\n",
       "      <td>0</td>\n",
       "    </tr>\n",
       "    <tr>\n",
       "      <th>4</th>\n",
       "      <td>11834053</td>\n",
       "      <td>0.000000e+00</td>\n",
       "      <td>0</td>\n",
       "      <td>0.000000e+00</td>\n",
       "      <td>0</td>\n",
       "    </tr>\n",
       "  </tbody>\n",
       "</table>\n",
       "</div>"
      ],
      "text/plain": [
       "   block_number  miner_reward  gas_used     gas_price  MEV_category\n",
       "0      11834049  3.720000e+17   4505938  8.261322e+10             3\n",
       "1      11834050  0.000000e+00         0  0.000000e+00             0\n",
       "2      11834051  0.000000e+00         0  0.000000e+00             0\n",
       "3      11834052  0.000000e+00         0  0.000000e+00             0\n",
       "4      11834053  0.000000e+00         0  0.000000e+00             0"
      ]
     },
     "execution_count": 7,
     "metadata": {},
     "output_type": "execute_result"
    }
   ],
   "source": [
    "df2.head() # ignore 'gas_used' and 'gas_price' columns - this is from old csv"
   ]
  },
  {
   "cell_type": "code",
   "execution_count": 2,
   "id": "699be769",
   "metadata": {},
   "outputs": [],
   "source": [
    "url = \"https://mainnet.gateway.pokt.network/v1/lb/62fd2e8c466be4003a7ac327/v1/query/blocktxs\" # my free alchemy historical api "
   ]
  },
  {
   "cell_type": "code",
   "execution_count": 3,
   "id": "1402da4d",
   "metadata": {},
   "outputs": [],
   "source": [
    "r = requests.post(url) # post request "
   ]
  },
  {
   "cell_type": "code",
   "execution_count": null,
   "id": "9ed15c3e",
   "metadata": {},
   "outputs": [
    {
     "ename": "",
     "evalue": "",
     "output_type": "error",
     "traceback": [
      "\u001b[1;31mRunning cells with 'Python 3.10.7 64-bit (microsoft store)' requires ipykernel package.\n",
      "\u001b[1;31mRun the following command to install 'ipykernel' into the Python environment. \n",
      "\u001b[1;31mCommand: 'c:/Users/sufya/AppData/Local/Microsoft/WindowsApps/python3.10.exe -m pip install ipykernel -U --force-reinstall'"
     ]
    }
   ],
   "source": [
    "# Initialize a Web3.py instance\n",
    "web3 = Web3(Web3.HTTPProvider('https://eth-mainnet.g.alchemy.com/v2/PXDcncN7KHOchKhO4S9FzldLoXBtshEI'))"
   ]
  },
  {
   "cell_type": "code",
   "execution_count": 8,
   "id": "34a4488f",
   "metadata": {},
   "outputs": [],
   "source": [
    "block = 11834049\n",
    "gas_data = []\n",
    "for i in range(10):  # adjust for loop based on amount of data required\n",
    "    hist = web3.eth.fee_history(newest_block = block, block_count=1000)\n",
    "    gas_data.append(hist['gasUsedRatio'])\n",
    "    block -= 100"
   ]
  },
  {
   "cell_type": "code",
   "execution_count": 16,
   "id": "b8cda9e3",
   "metadata": {},
   "outputs": [],
   "source": [
    "gas_data2 = flatten(gas_data) # change nested list into one dimensional list"
   ]
  },
  {
   "cell_type": "code",
   "execution_count": 18,
   "id": "9374c150",
   "metadata": {},
   "outputs": [
    {
     "data": {
      "text/plain": [
       "10000"
      ]
     },
     "execution_count": 18,
     "metadata": {},
     "output_type": "execute_result"
    }
   ],
   "source": [
    "len(gas_data2)"
   ]
  },
  {
   "cell_type": "code",
   "execution_count": 19,
   "id": "32b6dbd4",
   "metadata": {},
   "outputs": [],
   "source": [
    "df3 = df2.head(10000) # taking 10000 rows of data, so len(gas_data2) = len(df)"
   ]
  },
  {
   "cell_type": "code",
   "execution_count": 20,
   "id": "473d7f4a",
   "metadata": {
    "scrolled": true
   },
   "outputs": [
    {
     "name": "stderr",
     "output_type": "stream",
     "text": [
      "<ipython-input-20-4835273bc893>:1: SettingWithCopyWarning: \n",
      "A value is trying to be set on a copy of a slice from a DataFrame.\n",
      "Try using .loc[row_indexer,col_indexer] = value instead\n",
      "\n",
      "See the caveats in the documentation: https://pandas.pydata.org/pandas-docs/stable/user_guide/indexing.html#returning-a-view-versus-a-copy\n",
      "  df3['gas_used_ratio'] = gas_data2\n"
     ]
    }
   ],
   "source": [
    "df3['gas_used_ratio'] = gas_data2 # adding in gas column"
   ]
  },
  {
   "cell_type": "code",
   "execution_count": 22,
   "id": "4ebdc616",
   "metadata": {},
   "outputs": [
    {
     "name": "stderr",
     "output_type": "stream",
     "text": [
      "C:\\Users\\Toshiba\\anaconda3\\lib\\site-packages\\pandas\\core\\frame.py:4308: SettingWithCopyWarning: \n",
      "A value is trying to be set on a copy of a slice from a DataFrame\n",
      "\n",
      "See the caveats in the documentation: https://pandas.pydata.org/pandas-docs/stable/user_guide/indexing.html#returning-a-view-versus-a-copy\n",
      "  return super().drop(\n"
     ]
    }
   ],
   "source": [
    "df3.drop('gas_price',axis=1,inplace=True) # dont want this column anymore"
   ]
  },
  {
   "cell_type": "code",
   "execution_count": 23,
   "id": "2d9ab47b",
   "metadata": {},
   "outputs": [],
   "source": [
    "df3.drop('gas_used',axis=1,inplace=True)  # dont want this column anymore"
   ]
  },
  {
   "cell_type": "code",
   "execution_count": 24,
   "id": "6a859826",
   "metadata": {},
   "outputs": [
    {
     "data": {
      "text/html": [
       "<div>\n",
       "<style scoped>\n",
       "    .dataframe tbody tr th:only-of-type {\n",
       "        vertical-align: middle;\n",
       "    }\n",
       "\n",
       "    .dataframe tbody tr th {\n",
       "        vertical-align: top;\n",
       "    }\n",
       "\n",
       "    .dataframe thead th {\n",
       "        text-align: right;\n",
       "    }\n",
       "</style>\n",
       "<table border=\"1\" class=\"dataframe\">\n",
       "  <thead>\n",
       "    <tr style=\"text-align: right;\">\n",
       "      <th></th>\n",
       "      <th>block_number</th>\n",
       "      <th>miner_reward</th>\n",
       "      <th>MEV_category</th>\n",
       "      <th>gas_used_ratio</th>\n",
       "    </tr>\n",
       "  </thead>\n",
       "  <tbody>\n",
       "    <tr>\n",
       "      <th>0</th>\n",
       "      <td>11834049</td>\n",
       "      <td>3.720000e+17</td>\n",
       "      <td>3</td>\n",
       "      <td>0.999796</td>\n",
       "    </tr>\n",
       "    <tr>\n",
       "      <th>1</th>\n",
       "      <td>11834050</td>\n",
       "      <td>0.000000e+00</td>\n",
       "      <td>0</td>\n",
       "      <td>0.999850</td>\n",
       "    </tr>\n",
       "    <tr>\n",
       "      <th>2</th>\n",
       "      <td>11834051</td>\n",
       "      <td>0.000000e+00</td>\n",
       "      <td>0</td>\n",
       "      <td>0.999542</td>\n",
       "    </tr>\n",
       "    <tr>\n",
       "      <th>3</th>\n",
       "      <td>11834052</td>\n",
       "      <td>0.000000e+00</td>\n",
       "      <td>0</td>\n",
       "      <td>0.998738</td>\n",
       "    </tr>\n",
       "    <tr>\n",
       "      <th>4</th>\n",
       "      <td>11834053</td>\n",
       "      <td>0.000000e+00</td>\n",
       "      <td>0</td>\n",
       "      <td>0.998839</td>\n",
       "    </tr>\n",
       "  </tbody>\n",
       "</table>\n",
       "</div>"
      ],
      "text/plain": [
       "   block_number  miner_reward  MEV_category  gas_used_ratio\n",
       "0      11834049  3.720000e+17             3        0.999796\n",
       "1      11834050  0.000000e+00             0        0.999850\n",
       "2      11834051  0.000000e+00             0        0.999542\n",
       "3      11834052  0.000000e+00             0        0.998738\n",
       "4      11834053  0.000000e+00             0        0.998839"
      ]
     },
     "execution_count": 24,
     "metadata": {},
     "output_type": "execute_result"
    }
   ],
   "source": [
    "df3.head() # This is what df should look like"
   ]
  }
 ],
 "metadata": {
  "kernelspec": {
   "display_name": "Python 3.10.7 64-bit (microsoft store)",
   "language": "python",
   "name": "python3"
  },
  "language_info": {
   "codemirror_mode": {
    "name": "ipython",
    "version": 3
   },
   "file_extension": ".py",
   "mimetype": "text/x-python",
   "name": "python",
   "nbconvert_exporter": "python",
   "pygments_lexer": "ipython3",
   "version": "3.10.7"
  },
  "toc": {
   "base_numbering": 1,
   "nav_menu": {},
   "number_sections": true,
   "sideBar": true,
   "skip_h1_title": false,
   "title_cell": "Table of Contents",
   "title_sidebar": "Contents",
   "toc_cell": false,
   "toc_position": {},
   "toc_section_display": true,
   "toc_window_display": false
  },
  "vscode": {
   "interpreter": {
    "hash": "2b96cf7c584300418372ada66fd91b36326cee32dac945e6b465115698cdfa50"
   }
  }
 },
 "nbformat": 4,
 "nbformat_minor": 5
}
