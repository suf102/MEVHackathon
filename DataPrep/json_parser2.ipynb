{
 "cells": [
  {
   "cell_type": "code",
   "execution_count": 6,
   "metadata": {},
   "outputs": [],
   "source": [
    "import json\n",
    "import pandas as pd\n",
    "import matplotlib.pyplot as plt\n",
    "import seaborn as sns"
   ]
  },
  {
   "cell_type": "code",
   "execution_count": 7,
   "metadata": {},
   "outputs": [],
   "source": [
    "import numpy as np\n",
    "import requests"
   ]
  },
  {
   "cell_type": "code",
   "execution_count": 8,
   "metadata": {},
   "outputs": [],
   "source": [
    "x = requests.get('https://blocks.flashbots.net/v1/blocks') # just an example of loading in json via GET request"
   ]
  },
  {
   "cell_type": "code",
   "execution_count": 9,
   "metadata": {},
   "outputs": [],
   "source": [
    "data = x.json()"
   ]
  },
  {
   "cell_type": "code",
   "execution_count": 10,
   "metadata": {},
   "outputs": [],
   "source": [
    "with open('..\\Ethdata\\latest_blocks.json') as json_file: # how you would load in an already uploaded json file\n",
    "    data = json.load(json_file)"
   ]
  },
  {
   "cell_type": "code",
   "execution_count": 11,
   "metadata": {},
   "outputs": [
    {
     "data": {
      "text/plain": [
       "{'block_number': 14986955,\n",
       " 'miner_reward': '358920921362317961',\n",
       " 'miner': '0x646dB8ffC21e7ddc2B6327448dd9Fa560Df41087',\n",
       " 'coinbase_transfers': '358920921362317961',\n",
       " 'gas_used': 453908,\n",
       " 'gas_price': '790734953696',\n",
       " 'transactions': [{'transaction_hash': '0x7b2640a1915092f9c14a050f4a2ffcfa623396ffe3bfcde3a436c68f56487a35',\n",
       "   'tx_index': 0,\n",
       "   'bundle_type': 'flashbots',\n",
       "   'bundle_index': 0,\n",
       "   'block_number': 14986955,\n",
       "   'eoa_address': '0xD295879063BE7A6c49F7327AfaA831a4f3f64882',\n",
       "   'to_address': '0x4Cb18386e5d1F34dC6EEA834bf3534A970a3f8e7',\n",
       "   'gas_used': 128763,\n",
       "   'gas_price': '973175407353',\n",
       "   'coinbase_transfer': '125308984977002215',\n",
       "   'total_miner_reward': '125308984977002215'},\n",
       "  {'transaction_hash': '0x8366ecc71dbe8ef7d487ce2628378ab86651ad7a2df99eb3e18bc6af9f469946',\n",
       "   'tx_index': 0,\n",
       "   'bundle_type': 'flashbots',\n",
       "   'bundle_index': 1,\n",
       "   'block_number': 14986955,\n",
       "   'eoa_address': '0xeCa2e2D894D19778939bD4DfC34D2a3C45E96456',\n",
       "   'to_address': '0x4Cb18386e5d1F34dC6EEA834bf3534A970a3f8e7',\n",
       "   'gas_used': 182296,\n",
       "   'gas_price': '889188695859',\n",
       "   'coinbase_transfer': '162095542500406634',\n",
       "   'total_miner_reward': '162095542500406634'},\n",
       "  {'transaction_hash': '0xb31d8a2f25fdc472391da72a3c2e05971b4e32d42b6b76ca46e7a2e2509166ac',\n",
       "   'tx_index': 0,\n",
       "   'bundle_type': 'flashbots',\n",
       "   'bundle_index': 2,\n",
       "   'block_number': 14986955,\n",
       "   'eoa_address': '0x33CEF21EB6068ebfCf70C7404eFb8aAa08cAD388',\n",
       "   'to_address': '0xBEEFBaBEeA323F07c59926295205d3b7a17E8638',\n",
       "   'gas_used': 142849,\n",
       "   'gas_price': '500643293862',\n",
       "   'coinbase_transfer': '71516393884909112',\n",
       "   'total_miner_reward': '71516393884909112'}]}"
      ]
     },
     "execution_count": 11,
     "metadata": {},
     "output_type": "execute_result"
    }
   ],
   "source": [
    "data[0]"
   ]
  },
  {
   "cell_type": "code",
   "execution_count": 12,
   "metadata": {},
   "outputs": [],
   "source": [
    "blockdf2 = pd.DataFrame(data)"
   ]
  },
  {
   "cell_type": "code",
   "execution_count": 13,
   "metadata": {},
   "outputs": [
    {
     "data": {
      "text/html": [
       "<div>\n",
       "<style scoped>\n",
       "    .dataframe tbody tr th:only-of-type {\n",
       "        vertical-align: middle;\n",
       "    }\n",
       "\n",
       "    .dataframe tbody tr th {\n",
       "        vertical-align: top;\n",
       "    }\n",
       "\n",
       "    .dataframe thead th {\n",
       "        text-align: right;\n",
       "    }\n",
       "</style>\n",
       "<table border=\"1\" class=\"dataframe\">\n",
       "  <thead>\n",
       "    <tr style=\"text-align: right;\">\n",
       "      <th></th>\n",
       "      <th>block_number</th>\n",
       "      <th>miner_reward</th>\n",
       "      <th>miner</th>\n",
       "      <th>coinbase_transfers</th>\n",
       "      <th>gas_used</th>\n",
       "      <th>gas_price</th>\n",
       "      <th>transactions</th>\n",
       "    </tr>\n",
       "  </thead>\n",
       "  <tbody>\n",
       "    <tr>\n",
       "      <th>0</th>\n",
       "      <td>14986955</td>\n",
       "      <td>358920921362317961</td>\n",
       "      <td>0x646dB8ffC21e7ddc2B6327448dd9Fa560Df41087</td>\n",
       "      <td>358920921362317961</td>\n",
       "      <td>453908</td>\n",
       "      <td>790734953696</td>\n",
       "      <td>[{'transaction_hash': '0x7b2640a1915092f9c14a0...</td>\n",
       "    </tr>\n",
       "    <tr>\n",
       "      <th>1</th>\n",
       "      <td>14986954</td>\n",
       "      <td>266926641844315607</td>\n",
       "      <td>0x7F101fE45e6649A6fB8F3F8B43ed03D353f2B90c</td>\n",
       "      <td>233815223189565477</td>\n",
       "      <td>707043</td>\n",
       "      <td>377525329922</td>\n",
       "      <td>[{'transaction_hash': '0xae32bea44c40890ad2bee...</td>\n",
       "    </tr>\n",
       "    <tr>\n",
       "      <th>2</th>\n",
       "      <td>14986952</td>\n",
       "      <td>689259070093777007</td>\n",
       "      <td>0x646dB8ffC21e7ddc2B6327448dd9Fa560Df41087</td>\n",
       "      <td>154128719565454796</td>\n",
       "      <td>5304326</td>\n",
       "      <td>129942818388</td>\n",
       "      <td>[{'transaction_hash': '0xb97d89218f7924b1024a8...</td>\n",
       "    </tr>\n",
       "    <tr>\n",
       "      <th>3</th>\n",
       "      <td>14986949</td>\n",
       "      <td>381788848142916699</td>\n",
       "      <td>0x829BD824B016326A401d083B33D092293333A830</td>\n",
       "      <td>340862284848386550</td>\n",
       "      <td>702543</td>\n",
       "      <td>543438406108</td>\n",
       "      <td>[{'transaction_hash': '0x2d91fe1ae534143b2d3a4...</td>\n",
       "    </tr>\n",
       "    <tr>\n",
       "      <th>4</th>\n",
       "      <td>14986948</td>\n",
       "      <td>286956710025995738</td>\n",
       "      <td>0xEA674fdDe714fd979de3EdF0F56AA9716B898ec8</td>\n",
       "      <td>286803725093765114</td>\n",
       "      <td>600407</td>\n",
       "      <td>477936982790</td>\n",
       "      <td>[{'transaction_hash': '0x6cff42d45c83acddf7b6b...</td>\n",
       "    </tr>\n",
       "    <tr>\n",
       "      <th>...</th>\n",
       "      <td>...</td>\n",
       "      <td>...</td>\n",
       "      <td>...</td>\n",
       "      <td>...</td>\n",
       "      <td>...</td>\n",
       "      <td>...</td>\n",
       "      <td>...</td>\n",
       "    </tr>\n",
       "    <tr>\n",
       "      <th>1484616</th>\n",
       "      <td>11835001</td>\n",
       "      <td>26661835635854408</td>\n",
       "      <td>0xD224cA0c819e8E97ba0136B3b95ceFf503B79f53</td>\n",
       "      <td>26661835635854408</td>\n",
       "      <td>77137</td>\n",
       "      <td>345642631108</td>\n",
       "      <td>[{'transaction_hash': '0x29f4839ceea224bda3bbf...</td>\n",
       "    </tr>\n",
       "    <tr>\n",
       "      <th>1484617</th>\n",
       "      <td>11834918</td>\n",
       "      <td>32353817313917581</td>\n",
       "      <td>0xD224cA0c819e8E97ba0136B3b95ceFf503B79f53</td>\n",
       "      <td>32353817313917581</td>\n",
       "      <td>209853</td>\n",
       "      <td>154173718335</td>\n",
       "      <td>[{'transaction_hash': '0xe72d5fc908693361c4cbe...</td>\n",
       "    </tr>\n",
       "    <tr>\n",
       "      <th>1484618</th>\n",
       "      <td>11834911</td>\n",
       "      <td>227431738484650945</td>\n",
       "      <td>0xD224cA0c819e8E97ba0136B3b95ceFf503B79f53</td>\n",
       "      <td>227431738484650945</td>\n",
       "      <td>2696401</td>\n",
       "      <td>84346407854</td>\n",
       "      <td>[{'transaction_hash': '0xebbb811712c3560a96dc6...</td>\n",
       "    </tr>\n",
       "    <tr>\n",
       "      <th>1484619</th>\n",
       "      <td>11834380</td>\n",
       "      <td>7298671650726701</td>\n",
       "      <td>0xD224cA0c819e8E97ba0136B3b95ceFf503B79f53</td>\n",
       "      <td>7298671650726701</td>\n",
       "      <td>175813</td>\n",
       "      <td>41513833736</td>\n",
       "      <td>[{'transaction_hash': '0x03ebde03df94ec9883ef0...</td>\n",
       "    </tr>\n",
       "    <tr>\n",
       "      <th>1484620</th>\n",
       "      <td>11834049</td>\n",
       "      <td>372250038378476828</td>\n",
       "      <td>0xD224cA0c819e8E97ba0136B3b95ceFf503B79f53</td>\n",
       "      <td>372250038378476828</td>\n",
       "      <td>4505938</td>\n",
       "      <td>82613218019</td>\n",
       "      <td>[{'transaction_hash': '0x2338060b3b6413f516c20...</td>\n",
       "    </tr>\n",
       "  </tbody>\n",
       "</table>\n",
       "<p>1484621 rows × 7 columns</p>\n",
       "</div>"
      ],
      "text/plain": [
       "         block_number        miner_reward  \\\n",
       "0            14986955  358920921362317961   \n",
       "1            14986954  266926641844315607   \n",
       "2            14986952  689259070093777007   \n",
       "3            14986949  381788848142916699   \n",
       "4            14986948  286956710025995738   \n",
       "...               ...                 ...   \n",
       "1484616      11835001   26661835635854408   \n",
       "1484617      11834918   32353817313917581   \n",
       "1484618      11834911  227431738484650945   \n",
       "1484619      11834380    7298671650726701   \n",
       "1484620      11834049  372250038378476828   \n",
       "\n",
       "                                              miner  coinbase_transfers  \\\n",
       "0        0x646dB8ffC21e7ddc2B6327448dd9Fa560Df41087  358920921362317961   \n",
       "1        0x7F101fE45e6649A6fB8F3F8B43ed03D353f2B90c  233815223189565477   \n",
       "2        0x646dB8ffC21e7ddc2B6327448dd9Fa560Df41087  154128719565454796   \n",
       "3        0x829BD824B016326A401d083B33D092293333A830  340862284848386550   \n",
       "4        0xEA674fdDe714fd979de3EdF0F56AA9716B898ec8  286803725093765114   \n",
       "...                                             ...                 ...   \n",
       "1484616  0xD224cA0c819e8E97ba0136B3b95ceFf503B79f53   26661835635854408   \n",
       "1484617  0xD224cA0c819e8E97ba0136B3b95ceFf503B79f53   32353817313917581   \n",
       "1484618  0xD224cA0c819e8E97ba0136B3b95ceFf503B79f53  227431738484650945   \n",
       "1484619  0xD224cA0c819e8E97ba0136B3b95ceFf503B79f53    7298671650726701   \n",
       "1484620  0xD224cA0c819e8E97ba0136B3b95ceFf503B79f53  372250038378476828   \n",
       "\n",
       "         gas_used     gas_price  \\\n",
       "0          453908  790734953696   \n",
       "1          707043  377525329922   \n",
       "2         5304326  129942818388   \n",
       "3          702543  543438406108   \n",
       "4          600407  477936982790   \n",
       "...           ...           ...   \n",
       "1484616     77137  345642631108   \n",
       "1484617    209853  154173718335   \n",
       "1484618   2696401   84346407854   \n",
       "1484619    175813   41513833736   \n",
       "1484620   4505938   82613218019   \n",
       "\n",
       "                                              transactions  \n",
       "0        [{'transaction_hash': '0x7b2640a1915092f9c14a0...  \n",
       "1        [{'transaction_hash': '0xae32bea44c40890ad2bee...  \n",
       "2        [{'transaction_hash': '0xb97d89218f7924b1024a8...  \n",
       "3        [{'transaction_hash': '0x2d91fe1ae534143b2d3a4...  \n",
       "4        [{'transaction_hash': '0x6cff42d45c83acddf7b6b...  \n",
       "...                                                    ...  \n",
       "1484616  [{'transaction_hash': '0x29f4839ceea224bda3bbf...  \n",
       "1484617  [{'transaction_hash': '0xe72d5fc908693361c4cbe...  \n",
       "1484618  [{'transaction_hash': '0xebbb811712c3560a96dc6...  \n",
       "1484619  [{'transaction_hash': '0x03ebde03df94ec9883ef0...  \n",
       "1484620  [{'transaction_hash': '0x2338060b3b6413f516c20...  \n",
       "\n",
       "[1484621 rows x 7 columns]"
      ]
     },
     "execution_count": 13,
     "metadata": {},
     "output_type": "execute_result"
    }
   ],
   "source": [
    "blockdf2"
   ]
  },
  {
   "cell_type": "code",
   "execution_count": 14,
   "metadata": {},
   "outputs": [],
   "source": [
    "gas_used = list(blockdf2.groupby('block_number')['gas_used'].sum())  # total gas used per block column"
   ]
  },
  {
   "cell_type": "code",
   "execution_count": 15,
   "metadata": {},
   "outputs": [],
   "source": [
    "gas_price = list(blockdf2.groupby('block_number')['gas_price'].sum()) #total gas price per block column"
   ]
  },
  {
   "cell_type": "code",
   "execution_count": 16,
   "metadata": {},
   "outputs": [],
   "source": [
    "final_df = pd.DataFrame(blockdf2.groupby('block_number')['miner_reward'].sum()) #quantifies raw MEV per block (in wei)"
   ]
  },
  {
   "cell_type": "code",
   "execution_count": 17,
   "metadata": {},
   "outputs": [],
   "source": [
    "final_df['gas_used'] = gas_used        # adding columns into final df\n",
    "final_df['gas_price'] = gas_price"
   ]
  },
  {
   "cell_type": "code",
   "execution_count": 18,
   "metadata": {},
   "outputs": [
    {
     "data": {
      "text/html": [
       "<div>\n",
       "<style scoped>\n",
       "    .dataframe tbody tr th:only-of-type {\n",
       "        vertical-align: middle;\n",
       "    }\n",
       "\n",
       "    .dataframe tbody tr th {\n",
       "        vertical-align: top;\n",
       "    }\n",
       "\n",
       "    .dataframe thead th {\n",
       "        text-align: right;\n",
       "    }\n",
       "</style>\n",
       "<table border=\"1\" class=\"dataframe\">\n",
       "  <thead>\n",
       "    <tr style=\"text-align: right;\">\n",
       "      <th></th>\n",
       "      <th>miner_reward</th>\n",
       "      <th>gas_used</th>\n",
       "      <th>gas_price</th>\n",
       "    </tr>\n",
       "    <tr>\n",
       "      <th>block_number</th>\n",
       "      <th></th>\n",
       "      <th></th>\n",
       "      <th></th>\n",
       "    </tr>\n",
       "  </thead>\n",
       "  <tbody>\n",
       "    <tr>\n",
       "      <th>11834049</th>\n",
       "      <td>372250038378476828</td>\n",
       "      <td>4505938</td>\n",
       "      <td>82613218019</td>\n",
       "    </tr>\n",
       "    <tr>\n",
       "      <th>11834380</th>\n",
       "      <td>7298671650726701</td>\n",
       "      <td>175813</td>\n",
       "      <td>41513833736</td>\n",
       "    </tr>\n",
       "    <tr>\n",
       "      <th>11834911</th>\n",
       "      <td>227431738484650945</td>\n",
       "      <td>2696401</td>\n",
       "      <td>84346407854</td>\n",
       "    </tr>\n",
       "    <tr>\n",
       "      <th>11834918</th>\n",
       "      <td>32353817313917581</td>\n",
       "      <td>209853</td>\n",
       "      <td>154173718335</td>\n",
       "    </tr>\n",
       "    <tr>\n",
       "      <th>11835001</th>\n",
       "      <td>26661835635854408</td>\n",
       "      <td>77137</td>\n",
       "      <td>345642631108</td>\n",
       "    </tr>\n",
       "  </tbody>\n",
       "</table>\n",
       "</div>"
      ],
      "text/plain": [
       "                    miner_reward  gas_used     gas_price\n",
       "block_number                                            \n",
       "11834049      372250038378476828   4505938   82613218019\n",
       "11834380        7298671650726701    175813   41513833736\n",
       "11834911      227431738484650945   2696401   84346407854\n",
       "11834918       32353817313917581    209853  154173718335\n",
       "11835001       26661835635854408     77137  345642631108"
      ]
     },
     "execution_count": 18,
     "metadata": {},
     "output_type": "execute_result"
    }
   ],
   "source": [
    "final_df.head()  # propose using gas price as alternative to fluctuating eth price for time being, need to possibly query separate api with number of different oracles to obtain accurate eth price data per block"
   ]
  },
  {
   "cell_type": "code",
   "execution_count": 19,
   "metadata": {},
   "outputs": [],
   "source": [
    "def condition(x):\n",
    "    if 0 <= x <= 4.32*(10**14):\n",
    "         return 1\n",
    "    elif 4.32*(10**14) < x <= 3.39*(10**15):\n",
    "        return 2\n",
    "    elif x > 3.39*(10**15):\n",
    "        return 3"
   ]
  },
  {
   "cell_type": "code",
   "execution_count": 20,
   "metadata": {},
   "outputs": [],
   "source": [
    "final_df['miner_reward'] = final_df['miner_reward'].astype('float') # change column data type so it will work with lambda condition"
   ]
  },
  {
   "cell_type": "code",
   "execution_count": 21,
   "metadata": {},
   "outputs": [
    {
     "data": {
      "text/plain": [
       "miner_reward    float64\n",
       "gas_used          int64\n",
       "gas_price        object\n",
       "dtype: object"
      ]
     },
     "execution_count": 21,
     "metadata": {},
     "output_type": "execute_result"
    }
   ],
   "source": [
    "final_df.dtypes"
   ]
  },
  {
   "cell_type": "code",
   "execution_count": 22,
   "metadata": {},
   "outputs": [],
   "source": [
    "final_df['MEV_category'] = final_df['miner_reward'].apply(condition) # new MEV category column"
   ]
  },
  {
   "cell_type": "code",
   "execution_count": 23,
   "metadata": {},
   "outputs": [
    {
     "data": {
      "text/html": [
       "<div>\n",
       "<style scoped>\n",
       "    .dataframe tbody tr th:only-of-type {\n",
       "        vertical-align: middle;\n",
       "    }\n",
       "\n",
       "    .dataframe tbody tr th {\n",
       "        vertical-align: top;\n",
       "    }\n",
       "\n",
       "    .dataframe thead th {\n",
       "        text-align: right;\n",
       "    }\n",
       "</style>\n",
       "<table border=\"1\" class=\"dataframe\">\n",
       "  <thead>\n",
       "    <tr style=\"text-align: right;\">\n",
       "      <th></th>\n",
       "      <th>block_number</th>\n",
       "      <th>miner_reward</th>\n",
       "      <th>gas_used</th>\n",
       "      <th>gas_price</th>\n",
       "      <th>MEV_category</th>\n",
       "    </tr>\n",
       "  </thead>\n",
       "  <tbody>\n",
       "    <tr>\n",
       "      <th>0</th>\n",
       "      <td>11834049</td>\n",
       "      <td>3.722500e+17</td>\n",
       "      <td>4505938</td>\n",
       "      <td>82613218019</td>\n",
       "      <td>3.0</td>\n",
       "    </tr>\n",
       "    <tr>\n",
       "      <th>1</th>\n",
       "      <td>11834380</td>\n",
       "      <td>7.298672e+15</td>\n",
       "      <td>175813</td>\n",
       "      <td>41513833736</td>\n",
       "      <td>3.0</td>\n",
       "    </tr>\n",
       "    <tr>\n",
       "      <th>2</th>\n",
       "      <td>11834911</td>\n",
       "      <td>2.274317e+17</td>\n",
       "      <td>2696401</td>\n",
       "      <td>84346407854</td>\n",
       "      <td>3.0</td>\n",
       "    </tr>\n",
       "    <tr>\n",
       "      <th>3</th>\n",
       "      <td>11834918</td>\n",
       "      <td>3.235382e+16</td>\n",
       "      <td>209853</td>\n",
       "      <td>154173718335</td>\n",
       "      <td>3.0</td>\n",
       "    </tr>\n",
       "    <tr>\n",
       "      <th>4</th>\n",
       "      <td>11835001</td>\n",
       "      <td>2.666184e+16</td>\n",
       "      <td>77137</td>\n",
       "      <td>345642631108</td>\n",
       "      <td>3.0</td>\n",
       "    </tr>\n",
       "    <tr>\n",
       "      <th>...</th>\n",
       "      <td>...</td>\n",
       "      <td>...</td>\n",
       "      <td>...</td>\n",
       "      <td>...</td>\n",
       "      <td>...</td>\n",
       "    </tr>\n",
       "    <tr>\n",
       "      <th>1484616</th>\n",
       "      <td>14986948</td>\n",
       "      <td>2.869567e+17</td>\n",
       "      <td>600407</td>\n",
       "      <td>477936982790</td>\n",
       "      <td>3.0</td>\n",
       "    </tr>\n",
       "    <tr>\n",
       "      <th>1484617</th>\n",
       "      <td>14986949</td>\n",
       "      <td>3.817888e+17</td>\n",
       "      <td>702543</td>\n",
       "      <td>543438406108</td>\n",
       "      <td>3.0</td>\n",
       "    </tr>\n",
       "    <tr>\n",
       "      <th>1484618</th>\n",
       "      <td>14986952</td>\n",
       "      <td>6.892591e+17</td>\n",
       "      <td>5304326</td>\n",
       "      <td>129942818388</td>\n",
       "      <td>3.0</td>\n",
       "    </tr>\n",
       "    <tr>\n",
       "      <th>1484619</th>\n",
       "      <td>14986954</td>\n",
       "      <td>2.669266e+17</td>\n",
       "      <td>707043</td>\n",
       "      <td>377525329922</td>\n",
       "      <td>3.0</td>\n",
       "    </tr>\n",
       "    <tr>\n",
       "      <th>1484620</th>\n",
       "      <td>14986955</td>\n",
       "      <td>3.589209e+17</td>\n",
       "      <td>453908</td>\n",
       "      <td>790734953696</td>\n",
       "      <td>3.0</td>\n",
       "    </tr>\n",
       "  </tbody>\n",
       "</table>\n",
       "<p>1484621 rows × 5 columns</p>\n",
       "</div>"
      ],
      "text/plain": [
       "         block_number  miner_reward  gas_used     gas_price  MEV_category\n",
       "0            11834049  3.722500e+17   4505938   82613218019           3.0\n",
       "1            11834380  7.298672e+15    175813   41513833736           3.0\n",
       "2            11834911  2.274317e+17   2696401   84346407854           3.0\n",
       "3            11834918  3.235382e+16    209853  154173718335           3.0\n",
       "4            11835001  2.666184e+16     77137  345642631108           3.0\n",
       "...               ...           ...       ...           ...           ...\n",
       "1484616      14986948  2.869567e+17    600407  477936982790           3.0\n",
       "1484617      14986949  3.817888e+17    702543  543438406108           3.0\n",
       "1484618      14986952  6.892591e+17   5304326  129942818388           3.0\n",
       "1484619      14986954  2.669266e+17    707043  377525329922           3.0\n",
       "1484620      14986955  3.589209e+17    453908  790734953696           3.0\n",
       "\n",
       "[1484621 rows x 5 columns]"
      ]
     },
     "execution_count": 23,
     "metadata": {},
     "output_type": "execute_result"
    }
   ],
   "source": [
    "final_df.reset_index() #use this if you want to remove the remove the index - use 'inplace=True' as argument"
   ]
  },
  {
   "cell_type": "code",
   "execution_count": 25,
   "metadata": {},
   "outputs": [],
   "source": [
    "final_df.to_csv('../Ethdata/temp_df.csv') # how you would convert final dataframe to csv"
   ]
  },
  {
   "cell_type": "code",
   "execution_count": null,
   "metadata": {},
   "outputs": [
    {
     "ename": "",
     "evalue": "",
     "output_type": "error",
     "traceback": [
      "\u001b[1;31mRunning cells with 'Python 3.10.7 64-bit (microsoft store)' requires ipykernel package.\n",
      "\u001b[1;31mRun the following command to install 'ipykernel' into the Python environment. \n",
      "\u001b[1;31mCommand: 'c:/Users/sufya/AppData/Local/Microsoft/WindowsApps/python3.10.exe -m pip install ipykernel -U --force-reinstall'"
     ]
    }
   ],
   "source": []
  }
 ],
 "metadata": {
  "kernelspec": {
   "display_name": "Python 3.9.12 ('base')",
   "language": "python",
   "name": "python3"
  },
  "language_info": {
   "codemirror_mode": {
    "name": "ipython",
    "version": 3
   },
   "file_extension": ".py",
   "mimetype": "text/x-python",
   "name": "python",
   "nbconvert_exporter": "python",
   "pygments_lexer": "ipython3",
   "version": "3.9.12"
  },
  "toc": {
   "base_numbering": 1,
   "nav_menu": {},
   "number_sections": true,
   "sideBar": true,
   "skip_h1_title": false,
   "title_cell": "Table of Contents",
   "title_sidebar": "Contents",
   "toc_cell": false,
   "toc_position": {},
   "toc_section_display": true,
   "toc_window_display": false
  },
  "vscode": {
   "interpreter": {
    "hash": "ad2bdc8ecc057115af97d19610ffacc2b4e99fae6737bb82f5d7fb13d2f2c186"
   }
  }
 },
 "nbformat": 4,
 "nbformat_minor": 4
}
