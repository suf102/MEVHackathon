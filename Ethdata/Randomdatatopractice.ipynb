{
 "cells": [
  {
   "cell_type": "code",
   "execution_count": 1,
   "metadata": {},
   "outputs": [],
   "source": [
    "\n",
    "import numpy as np \n",
    "import pandas as pd\n",
    "import random\n",
    "import multiprocessing as mp\n",
    "from multiprocessing import Pool\n",
    "from numba import jit\n"
   ]
  },
  {
   "cell_type": "code",
   "execution_count": 2,
   "metadata": {},
   "outputs": [
    {
     "name": "stdout",
     "output_type": "stream",
     "text": [
      "[[   0    0]\n",
      " [   1    3]\n",
      " [   2    1]\n",
      " ...\n",
      " [9997    2]\n",
      " [9998    0]\n",
      " [9999    0]]\n"
     ]
    }
   ],
   "source": [
    "#Lets make some fake data so that I have something to work with and to serve as a sample for the others.\n",
    "#yeah so turns out it is much easier to use the inbuilt np functions than to try and do it myself. woops. but now we have a csv file with with 10 mill entries that we can \n",
    "#use for the next step in the process. They will have the lables, 0,1,2,3 where 0 means no mev, 1 means low, 2 means medium and 3 means high. \n",
    "\n",
    "numofsamples = 10000\n",
    "\n",
    "data = np.vstack(np.random.randint(0,4,numofsamples))\n",
    "lables = np.vstack(np.arange(0,numofsamples,1))\n",
    "\n",
    "\n",
    "data = np.append(lables,data,axis=1)\n",
    "\n",
    "print(data)\n",
    "\n"
   ]
  },
  {
   "cell_type": "code",
   "execution_count": 3,
   "metadata": {},
   "outputs": [],
   "source": [
    "#Lastly we can save the data that has been created using this line. \n",
    "\n",
    "np.savetxt(\"../ethdata/randomdata.csv\",data,delimiter=\",\")"
   ]
  }
 ],
 "metadata": {
  "kernelspec": {
   "display_name": "Python 3.9.12 ('base')",
   "language": "python",
   "name": "python3"
  },
  "language_info": {
   "codemirror_mode": {
    "name": "ipython",
    "version": 3
   },
   "file_extension": ".py",
   "mimetype": "text/x-python",
   "name": "python",
   "nbconvert_exporter": "python",
   "pygments_lexer": "ipython3",
   "version": "3.9.12"
  },
  "orig_nbformat": 4,
  "vscode": {
   "interpreter": {
    "hash": "40d3a090f54c6569ab1632332b64b2c03c39dcf918b08424e98f38b5ae0af88f"
   }
  }
 },
 "nbformat": 4,
 "nbformat_minor": 2
}
