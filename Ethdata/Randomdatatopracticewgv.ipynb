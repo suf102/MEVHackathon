{
 "cells": [
  {
   "cell_type": "code",
   "execution_count": 1,
   "metadata": {},
   "outputs": [],
   "source": [
    "\n",
    "import numpy as np \n",
    "import pandas as pd\n",
    "import random\n",
    "import multiprocessing as mp\n",
    "from multiprocessing import Pool\n",
    "from numba import jit\n"
   ]
  },
  {
   "cell_type": "code",
   "execution_count": 2,
   "metadata": {},
   "outputs": [
    {
     "name": "stdout",
     "output_type": "stream",
     "text": [
      "[[0.00000000e+00 2.00000000e+00 8.75339849e-01 8.70496361e-01]\n",
      " [1.00000000e+00 0.00000000e+00 6.64251242e-01 9.95776649e-01]\n",
      " [2.00000000e+00 2.00000000e+00 5.17810565e-01 8.59385246e-01]\n",
      " ...\n",
      " [9.99700000e+03 1.00000000e+00 3.13720353e-01 7.07850871e-01]\n",
      " [9.99800000e+03 3.00000000e+00 5.12175624e-01 5.64553907e-01]\n",
      " [9.99900000e+03 3.00000000e+00 5.54034209e-02 3.86228289e-01]]\n"
     ]
    }
   ],
   "source": [
    "#Lets make some fake data so that I have something to work with and to serve as a sample for the others.\n",
    "#yeah so turns out it is much easier to use the inbuilt np functions than to try and do it myself. woops. but now we have a csv file with with 10 mill entries that we can \n",
    "#use for the next step in the process. They will have the lables, 0,1,2,3 where 0 means no mev, 1 means low, 2 means medium and 3 means high. \n",
    "\n",
    "numofsamples = 10000\n",
    "\n",
    "data = np.vstack(np.random.randint(0,4,numofsamples))\n",
    "lables = np.vstack(np.arange(0,numofsamples,1))\n",
    "gasfees = np.vstack(np.random.rand(numofsamples))\n",
    "volitility = np.vstack(np.random.rand(numofsamples))\n",
    "\n",
    "data = np.append(lables,data,axis=1)\n",
    "data = np.append(data,gasfees,axis=1)\n",
    "data = np.append(data,volitility,axis=1)\n",
    "\n",
    "\n",
    "print(data)\n",
    "\n"
   ]
  },
  {
   "cell_type": "code",
   "execution_count": 3,
   "metadata": {},
   "outputs": [],
   "source": [
    "#Lastly we can save the data that has been created using this line. \n",
    "\n",
    "np.savetxt(\"../ethdata/randomdatawgv.csv\",data,delimiter=\",\")"
   ]
  }
 ],
 "metadata": {
  "kernelspec": {
   "display_name": "Python 3.9.12 ('base')",
   "language": "python",
   "name": "python3"
  },
  "language_info": {
   "codemirror_mode": {
    "name": "ipython",
    "version": 3
   },
   "file_extension": ".py",
   "mimetype": "text/x-python",
   "name": "python",
   "nbconvert_exporter": "python",
   "pygments_lexer": "ipython3",
   "version": "3.9.12"
  },
  "orig_nbformat": 4,
  "vscode": {
   "interpreter": {
    "hash": "ad2bdc8ecc057115af97d19610ffacc2b4e99fae6737bb82f5d7fb13d2f2c186"
   }
  }
 },
 "nbformat": 4,
 "nbformat_minor": 2
}
