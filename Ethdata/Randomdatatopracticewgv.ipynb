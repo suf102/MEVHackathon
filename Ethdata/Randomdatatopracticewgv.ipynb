{
 "cells": [
  {
   "cell_type": "code",
   "execution_count": 1,
   "metadata": {},
   "outputs": [],
   "source": [
    "\n",
    "import numpy as np \n",
    "import pandas as pd\n",
    "import random\n",
    "import multiprocessing as mp\n",
    "from multiprocessing import Pool\n",
    "from numba import jit\n"
   ]
  },
  {
   "cell_type": "code",
   "execution_count": 2,
   "metadata": {},
   "outputs": [
    {
     "name": "stdout",
     "output_type": "stream",
     "text": [
      "[[0.00000000e+00 0.00000000e+00 8.92528892e-01 2.00729663e-01]\n",
      " [1.00000000e+00 2.00000000e+00 6.72536093e-01 1.17525923e-02]\n",
      " [2.00000000e+00 2.00000000e+00 2.54252687e-01 8.75190263e-02]\n",
      " ...\n",
      " [9.99700000e+03 1.00000000e+00 1.10427486e-01 4.00522341e-01]\n",
      " [9.99800000e+03 0.00000000e+00 8.30791638e-02 1.69987927e-01]\n",
      " [9.99900000e+03 2.00000000e+00 2.69555288e-01 1.21179802e-01]]\n"
     ]
    }
   ],
   "source": [
    "#Lets make some fake data so that I have something to work with and to serve as a sample for the others.\n",
    "#yeah so turns out it is much easier to use the inbuilt np functions than to try and do it myself. woops. but now we have a csv file with with 10 mill entries that we can \n",
    "#use for the next step in the process. They will have the lables, 0,1,2,3 where 0 means no mev, 1 means low, 2 means medium and 3 means high. \n",
    "#it will also include a number for the gas fees and the volitilty of the price of etherium as compared to USD, these are normalised numbers so will not be raw data going in.\n",
    "\n",
    "numofsamples = 10000\n",
    "\n",
    "data = np.vstack(np.random.randint(0,4,numofsamples))\n",
    "lables = np.vstack(np.arange(0,numofsamples,1))\n",
    "gasfees = np.vstack(np.random.rand(numofsamples))\n",
    "volitility = np.vstack(np.random.rand(numofsamples))\n",
    "\n",
    "data = np.append(lables,data,axis=1)\n",
    "data = np.append(data,gasfees,axis=1)\n",
    "data = np.append(data,volitility,axis=1)\n",
    "\n",
    "\n",
    "print(data)\n",
    "\n"
   ]
  },
  {
   "cell_type": "code",
   "execution_count": 3,
   "metadata": {},
   "outputs": [],
   "source": [
    "#Lastly we can save the data that has been created using this line. \n",
    "\n",
    "np.savetxt(\"../ethdata/randomdatawgv.csv\",data,delimiter=\",\")"
   ]
  }
 ],
 "metadata": {
  "kernelspec": {
   "display_name": "Python 3.10.7 64-bit (microsoft store)",
   "language": "python",
   "name": "python3"
  },
  "language_info": {
   "codemirror_mode": {
    "name": "ipython",
    "version": 3
   },
   "file_extension": ".py",
   "mimetype": "text/x-python",
   "name": "python",
   "nbconvert_exporter": "python",
   "pygments_lexer": "ipython3",
   "version": "3.10.7"
  },
  "orig_nbformat": 4,
  "vscode": {
   "interpreter": {
    "hash": "2b96cf7c584300418372ada66fd91b36326cee32dac945e6b465115698cdfa50"
   }
  }
 },
 "nbformat": 4,
 "nbformat_minor": 2
}
